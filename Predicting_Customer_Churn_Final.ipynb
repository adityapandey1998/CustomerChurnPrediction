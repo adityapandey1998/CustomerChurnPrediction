{
  "nbformat": 4,
  "nbformat_minor": 0,
  "metadata": {
    "colab": {
      "name": "Predicting Customer Churn.ipynb",
      "version": "0.3.2",
      "provenance": [],
      "collapsed_sections": [
        "9tEfd-g1JTXS",
        "jMGHpeOHHwFY"
      ],
      "toc_visible": true
    },
    "kernelspec": {
      "name": "python3",
      "display_name": "Python 3"
    }
  },
  "cells": [
    {
      "metadata": {
        "id": "rFtIHgtqZG6t",
        "colab_type": "text"
      },
      "cell_type": "markdown",
      "source": [
        "# Data Loading and Basic Processing"
      ]
    },
    {
      "metadata": {
        "id": "y1lbde_kVUxK",
        "colab_type": "code",
        "outputId": "2e19b376-57a6-4938-f8db-b4d3aa5783de",
        "colab": {
          "base_uri": "https://localhost:8080/",
          "height": 125
        }
      },
      "cell_type": "code",
      "source": [
        "from google.colab import drive\n",
        "\n",
        "# This will prompt for authorization.\n",
        "drive.mount('/content/drive')"
      ],
      "execution_count": 2,
      "outputs": [
        {
          "output_type": "stream",
          "text": [
            "Go to this URL in a browser: https://accounts.google.com/o/oauth2/auth?client_id=947318989803-6bn6qk8qdgf4n4g3pfee6491hc0brc4i.apps.googleusercontent.com&redirect_uri=urn%3Aietf%3Awg%3Aoauth%3A2.0%3Aoob&scope=email%20https%3A%2F%2Fwww.googleapis.com%2Fauth%2Fdocs.test%20https%3A%2F%2Fwww.googleapis.com%2Fauth%2Fdrive%20https%3A%2F%2Fwww.googleapis.com%2Fauth%2Fdrive.photos.readonly%20https%3A%2F%2Fwww.googleapis.com%2Fauth%2Fpeopleapi.readonly&response_type=code\n",
            "\n",
            "Enter your authorization code:\n",
            "··········\n",
            "Mounted at /content/drive\n"
          ],
          "name": "stdout"
        }
      ]
    },
    {
      "metadata": {
        "id": "4G-LX2_EAuYi",
        "colab_type": "code",
        "outputId": "0fa91f15-8ff8-459a-cf50-1a67a4656467",
        "colab": {
          "base_uri": "https://localhost:8080/",
          "height": 34
        }
      },
      "cell_type": "code",
      "source": [
        "!ls \"drive/My Drive/6th Semester Labs/ML Lab/Project\"\n",
        "!cd \"drive/My Drive/6th Semester Labs/ML Lab/Project\""
      ],
      "execution_count": 3,
      "outputs": [
        {
          "output_type": "stream",
          "text": [
            "WA_Fn-UseC_-Telco-Customer-Churn.csv\n"
          ],
          "name": "stdout"
        }
      ]
    },
    {
      "metadata": {
        "id": "pwYMOPb6V0rY",
        "colab_type": "code",
        "outputId": "047819b7-422f-4876-b8e2-29d9f9578924",
        "colab": {
          "base_uri": "https://localhost:8080/",
          "height": 328
        }
      },
      "cell_type": "code",
      "source": [
        "import pandas as pd\n",
        "import io\n",
        "df = pd.read_csv('drive/My Drive/6th Semester Labs/ML Lab/Project/WA_Fn-UseC_-Telco-Customer-Churn.csv')\n",
        "df.head()"
      ],
      "execution_count": 4,
      "outputs": [
        {
          "output_type": "execute_result",
          "data": {
            "text/html": [
              "<div>\n",
              "<style scoped>\n",
              "    .dataframe tbody tr th:only-of-type {\n",
              "        vertical-align: middle;\n",
              "    }\n",
              "\n",
              "    .dataframe tbody tr th {\n",
              "        vertical-align: top;\n",
              "    }\n",
              "\n",
              "    .dataframe thead th {\n",
              "        text-align: right;\n",
              "    }\n",
              "</style>\n",
              "<table border=\"1\" class=\"dataframe\">\n",
              "  <thead>\n",
              "    <tr style=\"text-align: right;\">\n",
              "      <th></th>\n",
              "      <th>customerID</th>\n",
              "      <th>gender</th>\n",
              "      <th>SeniorCitizen</th>\n",
              "      <th>Partner</th>\n",
              "      <th>Dependents</th>\n",
              "      <th>tenure</th>\n",
              "      <th>PhoneService</th>\n",
              "      <th>MultipleLines</th>\n",
              "      <th>InternetService</th>\n",
              "      <th>OnlineSecurity</th>\n",
              "      <th>...</th>\n",
              "      <th>DeviceProtection</th>\n",
              "      <th>TechSupport</th>\n",
              "      <th>StreamingTV</th>\n",
              "      <th>StreamingMovies</th>\n",
              "      <th>Contract</th>\n",
              "      <th>PaperlessBilling</th>\n",
              "      <th>PaymentMethod</th>\n",
              "      <th>MonthlyCharges</th>\n",
              "      <th>TotalCharges</th>\n",
              "      <th>Churn</th>\n",
              "    </tr>\n",
              "  </thead>\n",
              "  <tbody>\n",
              "    <tr>\n",
              "      <th>0</th>\n",
              "      <td>7590-VHVEG</td>\n",
              "      <td>Female</td>\n",
              "      <td>0</td>\n",
              "      <td>Yes</td>\n",
              "      <td>No</td>\n",
              "      <td>1</td>\n",
              "      <td>No</td>\n",
              "      <td>No phone service</td>\n",
              "      <td>DSL</td>\n",
              "      <td>No</td>\n",
              "      <td>...</td>\n",
              "      <td>No</td>\n",
              "      <td>No</td>\n",
              "      <td>No</td>\n",
              "      <td>No</td>\n",
              "      <td>Month-to-month</td>\n",
              "      <td>Yes</td>\n",
              "      <td>Electronic check</td>\n",
              "      <td>29.85</td>\n",
              "      <td>29.85</td>\n",
              "      <td>No</td>\n",
              "    </tr>\n",
              "    <tr>\n",
              "      <th>1</th>\n",
              "      <td>5575-GNVDE</td>\n",
              "      <td>Male</td>\n",
              "      <td>0</td>\n",
              "      <td>No</td>\n",
              "      <td>No</td>\n",
              "      <td>34</td>\n",
              "      <td>Yes</td>\n",
              "      <td>No</td>\n",
              "      <td>DSL</td>\n",
              "      <td>Yes</td>\n",
              "      <td>...</td>\n",
              "      <td>Yes</td>\n",
              "      <td>No</td>\n",
              "      <td>No</td>\n",
              "      <td>No</td>\n",
              "      <td>One year</td>\n",
              "      <td>No</td>\n",
              "      <td>Mailed check</td>\n",
              "      <td>56.95</td>\n",
              "      <td>1889.5</td>\n",
              "      <td>No</td>\n",
              "    </tr>\n",
              "    <tr>\n",
              "      <th>2</th>\n",
              "      <td>3668-QPYBK</td>\n",
              "      <td>Male</td>\n",
              "      <td>0</td>\n",
              "      <td>No</td>\n",
              "      <td>No</td>\n",
              "      <td>2</td>\n",
              "      <td>Yes</td>\n",
              "      <td>No</td>\n",
              "      <td>DSL</td>\n",
              "      <td>Yes</td>\n",
              "      <td>...</td>\n",
              "      <td>No</td>\n",
              "      <td>No</td>\n",
              "      <td>No</td>\n",
              "      <td>No</td>\n",
              "      <td>Month-to-month</td>\n",
              "      <td>Yes</td>\n",
              "      <td>Mailed check</td>\n",
              "      <td>53.85</td>\n",
              "      <td>108.15</td>\n",
              "      <td>Yes</td>\n",
              "    </tr>\n",
              "    <tr>\n",
              "      <th>3</th>\n",
              "      <td>7795-CFOCW</td>\n",
              "      <td>Male</td>\n",
              "      <td>0</td>\n",
              "      <td>No</td>\n",
              "      <td>No</td>\n",
              "      <td>45</td>\n",
              "      <td>No</td>\n",
              "      <td>No phone service</td>\n",
              "      <td>DSL</td>\n",
              "      <td>Yes</td>\n",
              "      <td>...</td>\n",
              "      <td>Yes</td>\n",
              "      <td>Yes</td>\n",
              "      <td>No</td>\n",
              "      <td>No</td>\n",
              "      <td>One year</td>\n",
              "      <td>No</td>\n",
              "      <td>Bank transfer (automatic)</td>\n",
              "      <td>42.30</td>\n",
              "      <td>1840.75</td>\n",
              "      <td>No</td>\n",
              "    </tr>\n",
              "    <tr>\n",
              "      <th>4</th>\n",
              "      <td>9237-HQITU</td>\n",
              "      <td>Female</td>\n",
              "      <td>0</td>\n",
              "      <td>No</td>\n",
              "      <td>No</td>\n",
              "      <td>2</td>\n",
              "      <td>Yes</td>\n",
              "      <td>No</td>\n",
              "      <td>Fiber optic</td>\n",
              "      <td>No</td>\n",
              "      <td>...</td>\n",
              "      <td>No</td>\n",
              "      <td>No</td>\n",
              "      <td>No</td>\n",
              "      <td>No</td>\n",
              "      <td>Month-to-month</td>\n",
              "      <td>Yes</td>\n",
              "      <td>Electronic check</td>\n",
              "      <td>70.70</td>\n",
              "      <td>151.65</td>\n",
              "      <td>Yes</td>\n",
              "    </tr>\n",
              "  </tbody>\n",
              "</table>\n",
              "<p>5 rows × 21 columns</p>\n",
              "</div>"
            ],
            "text/plain": [
              "   customerID  gender  SeniorCitizen Partner Dependents  tenure PhoneService  \\\n",
              "0  7590-VHVEG  Female              0     Yes         No       1           No   \n",
              "1  5575-GNVDE    Male              0      No         No      34          Yes   \n",
              "2  3668-QPYBK    Male              0      No         No       2          Yes   \n",
              "3  7795-CFOCW    Male              0      No         No      45           No   \n",
              "4  9237-HQITU  Female              0      No         No       2          Yes   \n",
              "\n",
              "      MultipleLines InternetService OnlineSecurity  ...  DeviceProtection  \\\n",
              "0  No phone service             DSL             No  ...                No   \n",
              "1                No             DSL            Yes  ...               Yes   \n",
              "2                No             DSL            Yes  ...                No   \n",
              "3  No phone service             DSL            Yes  ...               Yes   \n",
              "4                No     Fiber optic             No  ...                No   \n",
              "\n",
              "  TechSupport StreamingTV StreamingMovies        Contract PaperlessBilling  \\\n",
              "0          No          No              No  Month-to-month              Yes   \n",
              "1          No          No              No        One year               No   \n",
              "2          No          No              No  Month-to-month              Yes   \n",
              "3         Yes          No              No        One year               No   \n",
              "4          No          No              No  Month-to-month              Yes   \n",
              "\n",
              "               PaymentMethod MonthlyCharges  TotalCharges Churn  \n",
              "0           Electronic check          29.85         29.85    No  \n",
              "1               Mailed check          56.95        1889.5    No  \n",
              "2               Mailed check          53.85        108.15   Yes  \n",
              "3  Bank transfer (automatic)          42.30       1840.75    No  \n",
              "4           Electronic check          70.70        151.65   Yes  \n",
              "\n",
              "[5 rows x 21 columns]"
            ]
          },
          "metadata": {
            "tags": []
          },
          "execution_count": 4
        }
      ]
    },
    {
      "metadata": {
        "id": "_noJjWSuX3Ys",
        "colab_type": "code",
        "outputId": "2ec36d86-c270-4555-bbe4-56d20af30a24",
        "colab": {
          "base_uri": "https://localhost:8080/",
          "height": 404
        }
      },
      "cell_type": "code",
      "source": [
        "df.TotalCharges = pd.to_numeric(df.TotalCharges, errors='coerce')\n",
        "df.isnull().sum()\n",
        "\n",
        "df.dropna(inplace = True)\n",
        "df.isnull().sum()"
      ],
      "execution_count": 5,
      "outputs": [
        {
          "output_type": "execute_result",
          "data": {
            "text/plain": [
              "customerID          0\n",
              "gender              0\n",
              "SeniorCitizen       0\n",
              "Partner             0\n",
              "Dependents          0\n",
              "tenure              0\n",
              "PhoneService        0\n",
              "MultipleLines       0\n",
              "InternetService     0\n",
              "OnlineSecurity      0\n",
              "OnlineBackup        0\n",
              "DeviceProtection    0\n",
              "TechSupport         0\n",
              "StreamingTV         0\n",
              "StreamingMovies     0\n",
              "Contract            0\n",
              "PaperlessBilling    0\n",
              "PaymentMethod       0\n",
              "MonthlyCharges      0\n",
              "TotalCharges        0\n",
              "Churn               0\n",
              "dtype: int64"
            ]
          },
          "metadata": {
            "tags": []
          },
          "execution_count": 5
        }
      ]
    },
    {
      "metadata": {
        "id": "Qjx7QDHtYwpG",
        "colab_type": "code",
        "colab": {}
      },
      "cell_type": "code",
      "source": [
        "df['Churn'].replace(to_replace='Yes', value=1, inplace=True)\n",
        "df['Churn'].replace(to_replace='No',  value=0, inplace=True)\n",
        "df.drop('customerID', axis=1, inplace=True)"
      ],
      "execution_count": 0,
      "outputs": []
    },
    {
      "metadata": {
        "id": "eBuJp493jcCr",
        "colab_type": "text"
      },
      "cell_type": "markdown",
      "source": [
        "# EDA"
      ]
    },
    {
      "metadata": {
        "id": "pZLiFUOmjfGh",
        "colab_type": "code",
        "colab": {}
      },
      "cell_type": "code",
      "source": [
        "import seaborn as sns\n",
        "import matplotlib.pyplot as plt\n",
        "sns.set_palette('pastel')"
      ],
      "execution_count": 0,
      "outputs": []
    },
    {
      "metadata": {
        "id": "5pLgoLw-wtNP",
        "colab_type": "code",
        "outputId": "0f03d221-e875-4663-8f38-a6d005262f62",
        "colab": {
          "base_uri": "https://localhost:8080/",
          "height": 533
        }
      },
      "cell_type": "code",
      "source": [
        "plt.figure(figsize=(8,8))\n",
        "ax = sns.countplot(x='Churn', data=df)\n",
        "ax.set_xlabel('Do they churn?')\n",
        "ax.set_ylabel('Count')\n",
        "ax.set_title('Number of Users Churning/Not Churning', fontsize=15)"
      ],
      "execution_count": 8,
      "outputs": [
        {
          "output_type": "execute_result",
          "data": {
            "text/plain": [
              "Text(0.5, 1.0, 'Number of Users Churning/Not Churning')"
            ]
          },
          "metadata": {
            "tags": []
          },
          "execution_count": 8
        },
        {
          "output_type": "display_data",
          "data": {
            "image/png": "[encoded data removed]",
            "text/plain": [
              "<Figure size 576x576 with 1 Axes>"
            ]
          },
          "metadata": {
            "tags": []
          }
        }
      ]
    },
    {
      "metadata": {
        "id": "sZDKAPMswylm",
        "colab_type": "code",
        "outputId": "d35548c3-7add-448a-eaf0-ec67b28dd649",
        "colab": {
          "base_uri": "https://localhost:8080/",
          "height": 983
        }
      },
      "cell_type": "code",
      "source": [
        "plt.figure(figsize=(8,8))\n",
        "ax = sns.distplot(df[\"MonthlyCharges\"] , kde=True)\n",
        "plt.figure(figsize=(8,8))\n",
        "ax = sns.distplot(df[\"TotalCharges\"] , kde=True)"
      ],
      "execution_count": 9,
      "outputs": [
        {
          "output_type": "display_data",
          "data": {
            "image/png": "[encoded data removed]",
            "text/plain": [
              "<Figure size 576x576 with 1 Axes>"
            ]
          },
          "metadata": {
            "tags": []
          }
        },
        {
          "output_type": "display_data",
          "data": {
            "image/png": "[encoded data removed]",
            "text/plain": [
              "<Figure size 576x576 with 1 Axes>"
            ]
          },
          "metadata": {
            "tags": []
          }
        }
      ]
    },
    {
      "metadata": {
        "id": "bU2r5ZR2mZWF",
        "colab_type": "code",
        "outputId": "5d8e3009-749a-4a58-aab3-4e687fdc1905",
        "colab": {
          "base_uri": "https://localhost:8080/",
          "height": 370
        }
      },
      "cell_type": "code",
      "source": [
        "plt.figure(figsize=(7,5))\n",
        "ax = sns.boxplot(x = 'Churn', y = 'tenure', data=df)\n",
        "ax.set_xlabel('Do they churn?')\n",
        "ax.set_ylabel(\"Tenure(in months)\")\n",
        "ax.set_title('Tenure vs Churn', fontsize=15)"
      ],
      "execution_count": 10,
      "outputs": [
        {
          "output_type": "execute_result",
          "data": {
            "text/plain": [
              "Text(0.5, 1.0, 'Tenure vs Churn')"
            ]
          },
          "metadata": {
            "tags": []
          },
          "execution_count": 10
        },
        {
          "output_type": "display_data",
          "data": {
            "image/png": "[encoded data removed]",
            "text/plain": [
              "<Figure size 504x360 with 1 Axes>"
            ]
          },
          "metadata": {
            "tags": []
          }
        }
      ]
    },
    {
      "metadata": {
        "id": "md5Ro27okloP",
        "colab_type": "code",
        "outputId": "96f730dd-a499-4d24-a389-70526cbf5987",
        "colab": {
          "base_uri": "https://localhost:8080/",
          "height": 533
        }
      },
      "cell_type": "code",
      "source": [
        "plt.figure(figsize=(12,8))\n",
        "ax = sns.countplot(x=\"Contract\", hue=\"Churn\", data=df);\n",
        "ax.set_title('Churn based on contract type', fontsize=15)\n",
        "ax.set_ylabel('Count')\n",
        "ax.set_xlabel('Contract Type')"
      ],
      "execution_count": 11,
      "outputs": [
        {
          "output_type": "execute_result",
          "data": {
            "text/plain": [
              "Text(0.5, 0, 'Contract Type')"
            ]
          },
          "metadata": {
            "tags": []
          },
          "execution_count": 11
        },
        {
          "output_type": "display_data",
          "data": {
            "image/png": "[encoded data removed]",
            "text/plain": [
              "<Figure size 864x576 with 1 Axes>"
            ]
          },
          "metadata": {
            "tags": []
          }
        }
      ]
    },
    {
      "metadata": {
        "id": "IzCHCLyjlGDa",
        "colab_type": "code",
        "outputId": "773fd1d3-761a-48dd-a678-a2522f6a71e5",
        "colab": {
          "base_uri": "https://localhost:8080/",
          "height": 533
        }
      },
      "cell_type": "code",
      "source": [
        "plt.figure(figsize=(15,8))\n",
        "ax = sns.countplot(x='InternetService', hue='Churn', data=df);\n",
        "ax.set_ylabel('Number of Customers')\n",
        "ax.set_xlabel('Internet Service')\n",
        "ax.set_title('Churn Based on Internet Service Type', fontsize=15)"
      ],
      "execution_count": 12,
      "outputs": [
        {
          "output_type": "execute_result",
          "data": {
            "text/plain": [
              "Text(0.5, 1.0, 'Churn Based on Internet Service Type')"
            ]
          },
          "metadata": {
            "tags": []
          },
          "execution_count": 12
        },
        {
          "output_type": "display_data",
          "data": {
            "image/png": "[encoded data removed]",
            "text/plain": [
              "<Figure size 1080x576 with 1 Axes>"
            ]
          },
          "metadata": {
            "tags": []
          }
        }
      ]
    },
    {
      "metadata": {
        "id": "R07g8xUXl6nI",
        "colab_type": "code",
        "outputId": "c5065414-ba87-432c-a7a0-d94ec40f3131",
        "colab": {
          "base_uri": "https://localhost:8080/",
          "height": 530
        }
      },
      "cell_type": "code",
      "source": [
        "plt.figure(figsize=(10,8))\n",
        "ax = sns.kdeplot(df[(df[\"Churn\"] == 0)]['TotalCharges'], shade = True)\n",
        "ax = sns.kdeplot(df[(df[\"Churn\"] == 1)]['TotalCharges'], ax=ax, shade= True)\n",
        "ax.legend([\"Not Churn\",\"Churn\"])\n",
        "ax.set_xlabel('Total Charges')\n",
        "ax.set_title('Total Charges vs Churn Density Plot')"
      ],
      "execution_count": 13,
      "outputs": [
        {
          "output_type": "execute_result",
          "data": {
            "text/plain": [
              "Text(0.5, 1.0, 'Total Charges vs Churn Density Plot')"
            ]
          },
          "metadata": {
            "tags": []
          },
          "execution_count": 13
        },
        {
          "output_type": "display_data",
          "data": {
            "image/png": "[encoded data removed]",
            "text/plain": [
              "<Figure size 720x576 with 1 Axes>"
            ]
          },
          "metadata": {
            "tags": []
          }
        }
      ]
    },
    {
      "metadata": {
        "id": "iYijjys3rn1s",
        "colab_type": "code",
        "outputId": "e0e84942-5fc2-4bd6-fb3b-b11e78245282",
        "colab": {
          "base_uri": "https://localhost:8080/",
          "height": 705
        }
      },
      "cell_type": "code",
      "source": [
        "agg = df.groupby('SeniorCitizen', as_index=True).agg(['sum', 'count'])['Churn']\n",
        "agg['perc'] = agg['sum'].div(agg['count'].values, axis=0)\n",
        "agg['SeniorCitizen'] = agg.index\n",
        "\n",
        "plt.figure(figsize=(7,5))\n",
        "ax = sns.barplot(x=\"SeniorCitizen\", y=\"perc\", data=agg);\n",
        "ax.set_title('Percentage of cutomers churning', fontsize=15)\n",
        "ax.set_ylabel('Count')\n",
        "ax.set_xlabel('Senior Citizen?')\n",
        "\n",
        "plt.figure(figsize=(7,5))\n",
        "ax = sns.countplot(x=\"SeniorCitizen\", hue=\"Churn\", data=df);\n",
        "ax.set_title('Do Senior Citizens Churn?', fontsize=15)\n",
        "ax.set_ylabel('Count')\n",
        "ax.set_xlabel('Senior Citizen?')"
      ],
      "execution_count": 14,
      "outputs": [
        {
          "output_type": "execute_result",
          "data": {
            "text/plain": [
              "Text(0.5, 0, 'Senior Citizen?')"
            ]
          },
          "metadata": {
            "tags": []
          },
          "execution_count": 14
        },
        {
          "output_type": "display_data",
          "data": {
            "image/png": "[encoded data removed]",
            "text/plain": [
              "<Figure size 504x360 with 1 Axes>"
            ]
          },
          "metadata": {
            "tags": []
          }
        },
        {
          "output_type": "display_data",
          "data": {
            "image/png": "[encoded data removed]",
            "text/plain": [
              "<Figure size 504x360 with 1 Axes>"
            ]
          },
          "metadata": {
            "tags": []
          }
        }
      ]
    },
    {
      "metadata": {
        "id": "NSFTOPnkxC6f",
        "colab_type": "text"
      },
      "cell_type": "markdown",
      "source": [
        "# Classification"
      ]
    },
    {
      "metadata": {
        "id": "JCuqkuXOxA5e",
        "colab_type": "code",
        "outputId": "c1cf845a-4a76-4cf0-c649-310bcac30682",
        "colab": {
          "base_uri": "https://localhost:8080/",
          "height": 278
        }
      },
      "cell_type": "code",
      "source": [
        "data = pd.get_dummies(df)\n",
        "data.head()"
      ],
      "execution_count": 15,
      "outputs": [
        {
          "output_type": "execute_result",
          "data": {
            "text/html": [
              "<div>\n",
              "<style scoped>\n",
              "    .dataframe tbody tr th:only-of-type {\n",
              "        vertical-align: middle;\n",
              "    }\n",
              "\n",
              "    .dataframe tbody tr th {\n",
              "        vertical-align: top;\n",
              "    }\n",
              "\n",
              "    .dataframe thead th {\n",
              "        text-align: right;\n",
              "    }\n",
              "</style>\n",
              "<table border=\"1\" class=\"dataframe\">\n",
              "  <thead>\n",
              "    <tr style=\"text-align: right;\">\n",
              "      <th></th>\n",
              "      <th>SeniorCitizen</th>\n",
              "      <th>tenure</th>\n",
              "      <th>MonthlyCharges</th>\n",
              "      <th>TotalCharges</th>\n",
              "      <th>Churn</th>\n",
              "      <th>gender_Female</th>\n",
              "      <th>gender_Male</th>\n",
              "      <th>Partner_No</th>\n",
              "      <th>Partner_Yes</th>\n",
              "      <th>Dependents_No</th>\n",
              "      <th>...</th>\n",
              "      <th>StreamingMovies_Yes</th>\n",
              "      <th>Contract_Month-to-month</th>\n",
              "      <th>Contract_One year</th>\n",
              "      <th>Contract_Two year</th>\n",
              "      <th>PaperlessBilling_No</th>\n",
              "      <th>PaperlessBilling_Yes</th>\n",
              "      <th>PaymentMethod_Bank transfer (automatic)</th>\n",
              "      <th>PaymentMethod_Credit card (automatic)</th>\n",
              "      <th>PaymentMethod_Electronic check</th>\n",
              "      <th>PaymentMethod_Mailed check</th>\n",
              "    </tr>\n",
              "  </thead>\n",
              "  <tbody>\n",
              "    <tr>\n",
              "      <th>0</th>\n",
              "      <td>0</td>\n",
              "      <td>1</td>\n",
              "      <td>29.85</td>\n",
              "      <td>29.85</td>\n",
              "      <td>0</td>\n",
              "      <td>1</td>\n",
              "      <td>0</td>\n",
              "      <td>0</td>\n",
              "      <td>1</td>\n",
              "      <td>1</td>\n",
              "      <td>...</td>\n",
              "      <td>0</td>\n",
              "      <td>1</td>\n",
              "      <td>0</td>\n",
              "      <td>0</td>\n",
              "      <td>0</td>\n",
              "      <td>1</td>\n",
              "      <td>0</td>\n",
              "      <td>0</td>\n",
              "      <td>1</td>\n",
              "      <td>0</td>\n",
              "    </tr>\n",
              "    <tr>\n",
              "      <th>1</th>\n",
              "      <td>0</td>\n",
              "      <td>34</td>\n",
              "      <td>56.95</td>\n",
              "      <td>1889.50</td>\n",
              "      <td>0</td>\n",
              "      <td>0</td>\n",
              "      <td>1</td>\n",
              "      <td>1</td>\n",
              "      <td>0</td>\n",
              "      <td>1</td>\n",
              "      <td>...</td>\n",
              "      <td>0</td>\n",
              "      <td>0</td>\n",
              "      <td>1</td>\n",
              "      <td>0</td>\n",
              "      <td>1</td>\n",
              "      <td>0</td>\n",
              "      <td>0</td>\n",
              "      <td>0</td>\n",
              "      <td>0</td>\n",
              "      <td>1</td>\n",
              "    </tr>\n",
              "    <tr>\n",
              "      <th>2</th>\n",
              "      <td>0</td>\n",
              "      <td>2</td>\n",
              "      <td>53.85</td>\n",
              "      <td>108.15</td>\n",
              "      <td>1</td>\n",
              "      <td>0</td>\n",
              "      <td>1</td>\n",
              "      <td>1</td>\n",
              "      <td>0</td>\n",
              "      <td>1</td>\n",
              "      <td>...</td>\n",
              "      <td>0</td>\n",
              "      <td>1</td>\n",
              "      <td>0</td>\n",
              "      <td>0</td>\n",
              "      <td>0</td>\n",
              "      <td>1</td>\n",
              "      <td>0</td>\n",
              "      <td>0</td>\n",
              "      <td>0</td>\n",
              "      <td>1</td>\n",
              "    </tr>\n",
              "    <tr>\n",
              "      <th>3</th>\n",
              "      <td>0</td>\n",
              "      <td>45</td>\n",
              "      <td>42.30</td>\n",
              "      <td>1840.75</td>\n",
              "      <td>0</td>\n",
              "      <td>0</td>\n",
              "      <td>1</td>\n",
              "      <td>1</td>\n",
              "      <td>0</td>\n",
              "      <td>1</td>\n",
              "      <td>...</td>\n",
              "      <td>0</td>\n",
              "      <td>0</td>\n",
              "      <td>1</td>\n",
              "      <td>0</td>\n",
              "      <td>1</td>\n",
              "      <td>0</td>\n",
              "      <td>1</td>\n",
              "      <td>0</td>\n",
              "      <td>0</td>\n",
              "      <td>0</td>\n",
              "    </tr>\n",
              "    <tr>\n",
              "      <th>4</th>\n",
              "      <td>0</td>\n",
              "      <td>2</td>\n",
              "      <td>70.70</td>\n",
              "      <td>151.65</td>\n",
              "      <td>1</td>\n",
              "      <td>1</td>\n",
              "      <td>0</td>\n",
              "      <td>1</td>\n",
              "      <td>0</td>\n",
              "      <td>1</td>\n",
              "      <td>...</td>\n",
              "      <td>0</td>\n",
              "      <td>1</td>\n",
              "      <td>0</td>\n",
              "      <td>0</td>\n",
              "      <td>0</td>\n",
              "      <td>1</td>\n",
              "      <td>0</td>\n",
              "      <td>0</td>\n",
              "      <td>1</td>\n",
              "      <td>0</td>\n",
              "    </tr>\n",
              "  </tbody>\n",
              "</table>\n",
              "<p>5 rows × 46 columns</p>\n",
              "</div>"
            ],
            "text/plain": [
              "   SeniorCitizen  tenure  MonthlyCharges  TotalCharges  Churn  gender_Female  \\\n",
              "0              0       1           29.85         29.85      0              1   \n",
              "1              0      34           56.95       1889.50      0              0   \n",
              "2              0       2           53.85        108.15      1              0   \n",
              "3              0      45           42.30       1840.75      0              0   \n",
              "4              0       2           70.70        151.65      1              1   \n",
              "\n",
              "   gender_Male  Partner_No  Partner_Yes  Dependents_No  \\\n",
              "0            0           0            1              1   \n",
              "1            1           1            0              1   \n",
              "2            1           1            0              1   \n",
              "3            1           1            0              1   \n",
              "4            0           1            0              1   \n",
              "\n",
              "              ...              StreamingMovies_Yes  Contract_Month-to-month  \\\n",
              "0             ...                                0                        1   \n",
              "1             ...                                0                        0   \n",
              "2             ...                                0                        1   \n",
              "3             ...                                0                        0   \n",
              "4             ...                                0                        1   \n",
              "\n",
              "   Contract_One year  Contract_Two year  PaperlessBilling_No  \\\n",
              "0                  0                  0                    0   \n",
              "1                  1                  0                    1   \n",
              "2                  0                  0                    0   \n",
              "3                  1                  0                    1   \n",
              "4                  0                  0                    0   \n",
              "\n",
              "   PaperlessBilling_Yes  PaymentMethod_Bank transfer (automatic)  \\\n",
              "0                     1                                        0   \n",
              "1                     0                                        0   \n",
              "2                     1                                        0   \n",
              "3                     0                                        1   \n",
              "4                     1                                        0   \n",
              "\n",
              "   PaymentMethod_Credit card (automatic)  PaymentMethod_Electronic check  \\\n",
              "0                                      0                               1   \n",
              "1                                      0                               0   \n",
              "2                                      0                               0   \n",
              "3                                      0                               0   \n",
              "4                                      0                               1   \n",
              "\n",
              "   PaymentMethod_Mailed check  \n",
              "0                           0  \n",
              "1                           1  \n",
              "2                           1  \n",
              "3                           0  \n",
              "4                           0  \n",
              "\n",
              "[5 rows x 46 columns]"
            ]
          },
          "metadata": {
            "tags": []
          },
          "execution_count": 15
        }
      ]
    },
    {
      "metadata": {
        "id": "u9wma8kb4XvT",
        "colab_type": "code",
        "outputId": "c984fe9f-ad2a-4d97-adc9-c7da680d30ec",
        "colab": {
          "base_uri": "https://localhost:8080/",
          "height": 710
        }
      },
      "cell_type": "code",
      "source": [
        "plt.figure(figsize=(15,8))\n",
        "data.corr()['Churn'].sort_values().plot(kind='bar')"
      ],
      "execution_count": 16,
      "outputs": [
        {
          "output_type": "execute_result",
          "data": {
            "text/plain": [
              "<matplotlib.axes._subplots.AxesSubplot at 0x7f08a92170f0>"
            ]
          },
          "metadata": {
            "tags": []
          },
          "execution_count": 16
        },
        {
          "output_type": "display_data",
          "data": {
            "image/png": "[encoded data removed]",
            "text/plain": [
              "<Figure size 1080x576 with 1 Axes>"
            ]
          },
          "metadata": {
            "tags": []
          }
        }
      ]
    },
    {
      "metadata": {
        "id": "VwfhlmUY5d3G",
        "colab_type": "code",
        "colab": {}
      },
      "cell_type": "code",
      "source": [
        "from sklearn.model_selection import train_test_split\n",
        "X = data.drop('Churn', axis=1)\n",
        "y = data['Churn'].values\n",
        "X_train, X_test, y_train, y_test = train_test_split(X, y, test_size=0.2, random_state=99)"
      ],
      "execution_count": 0,
      "outputs": []
    },
    {
      "metadata": {
        "id": "85u9S0DvZUmB",
        "colab_type": "text"
      },
      "cell_type": "markdown",
      "source": [
        "## Pre-Processing"
      ]
    },
    {
      "metadata": {
        "id": "ehf7H0cd8O1s",
        "colab_type": "code",
        "outputId": "f27c8542-ff6b-49af-dc4f-93f4420fd9b6",
        "colab": {
          "base_uri": "https://localhost:8080/",
          "height": 142
        }
      },
      "cell_type": "code",
      "source": [
        "from sklearn.preprocessing import MinMaxScaler\n",
        "features = X.columns.values\n",
        "scaler = MinMaxScaler(feature_range = (0,1))\n",
        "scaler.fit(X_train)\n",
        "X_train_mm = pd.DataFrame(scaler.transform(X_train))\n",
        "X_train_mm.columns = features\n",
        "X_train_mm.head()\n",
        "\n",
        "X_test_mm = pd.DataFrame(scaler.transform(X_test))\n",
        "X_test_mm.columns = features\n",
        "X_test_mm.head()\n",
        "\n",
        "\n",
        "from sklearn.preprocessing import StandardScaler\n",
        "scaler = StandardScaler()\n",
        "\n",
        "scaler.fit(X_train)\n",
        "X_train_sc = pd.DataFrame(scaler.transform(X_train))\n",
        "X_train_sc.columns = features\n",
        "X_train_sc.head()\n",
        "\n",
        "X_test_sc = pd.DataFrame(scaler.transform(X_test))\n",
        "X_test_sc.columns = features\n",
        "X_test_sc.head()\n",
        "\n",
        "\n",
        "from sklearn.decomposition import PCA\n",
        "pca = PCA(.9)\n",
        "pca.fit(X_train_sc)\n",
        "\n",
        "X_train_pca = pca.transform(X_train_sc)\n",
        "X_test_pca = pca.transform(X_test_sc)\n"
      ],
      "execution_count": 18,
      "outputs": [
        {
          "output_type": "stream",
          "text": [
            "/usr/local/lib/python3.6/dist-packages/sklearn/preprocessing/data.py:334: DataConversionWarning: Data with input dtype uint8, int64, float64 were all converted to float64 by MinMaxScaler.\n",
            "  return self.partial_fit(X, y)\n",
            "/usr/local/lib/python3.6/dist-packages/sklearn/preprocessing/data.py:645: DataConversionWarning: Data with input dtype uint8, int64, float64 were all converted to float64 by StandardScaler.\n",
            "  return self.partial_fit(X, y)\n",
            "/usr/local/lib/python3.6/dist-packages/ipykernel_launcher.py:18: DataConversionWarning: Data with input dtype uint8, int64, float64 were all converted to float64 by StandardScaler.\n",
            "/usr/local/lib/python3.6/dist-packages/ipykernel_launcher.py:22: DataConversionWarning: Data with input dtype uint8, int64, float64 were all converted to float64 by StandardScaler.\n"
          ],
          "name": "stderr"
        }
      ]
    },
    {
      "metadata": {
        "id": "H-gPJmsq_ohU",
        "colab_type": "code",
        "colab": {}
      },
      "cell_type": "code",
      "source": [
        ""
      ],
      "execution_count": 0,
      "outputs": []
    },
    {
      "metadata": {
        "id": "WzKjQ9_7_2a7",
        "colab_type": "text"
      },
      "cell_type": "markdown",
      "source": [
        "## Logistic Regression"
      ]
    },
    {
      "metadata": {
        "id": "9tEfd-g1JTXS",
        "colab_type": "text"
      },
      "cell_type": "markdown",
      "source": [
        "### Logistic Regression (with Min-Max Scaling)"
      ]
    },
    {
      "metadata": {
        "id": "TqOF0ZLs_5MD",
        "colab_type": "code",
        "outputId": "39fbbbbf-b0b4-4771-b6ef-2846e102a4ea",
        "colab": {
          "base_uri": "https://localhost:8080/",
          "height": 794
        }
      },
      "cell_type": "code",
      "source": [
        "#X_train_mm.corr()\n",
        "\n",
        "from sklearn.linear_model import LogisticRegression\n",
        "from sklearn.metrics import confusion_matrix,accuracy_score,classification_report\n",
        "\n",
        "model = LogisticRegression(C=1.0, class_weight=None, dual=False,\n",
        "          penalty='l2', random_state=None, solver='liblinear',\n",
        "          verbose=0, warm_start=False)\n",
        "\n",
        "model.fit(X_train_mm,y_train)\n",
        "predictions   = model.predict(X_test_mm)\n",
        "\n",
        "print(model)\n",
        "cr_lr_mm = classification_report(y_test,predictions)\n",
        "print(\"\\n Classification report : \\n\",cr_lr_mm)\n",
        "acc_lr_mm = accuracy_score(y_test,predictions)\n",
        "print(\"Accuracy Score : \",acc_lr_mm)\n",
        "print(\"\\n\\n\")\n",
        "\n",
        "plt.figure(figsize = (10,7))\n",
        "sns.set(font_scale=1.4)\n",
        "sns.heatmap(confusion_matrix(y_test,predictions), annot=True, fmt='g')"
      ],
      "execution_count": 96,
      "outputs": [
        {
          "output_type": "stream",
          "text": [
            "LogisticRegression(C=1.0, class_weight=None, dual=False, fit_intercept=True,\n",
            "          intercept_scaling=1, max_iter=100, multi_class='warn',\n",
            "          n_jobs=None, penalty='l2', random_state=None, solver='liblinear',\n",
            "          tol=0.0001, verbose=0, warm_start=False)\n",
            "\n",
            " Classification report : \n",
            "               precision    recall  f1-score   support\n",
            "\n",
            "           0       0.85      0.91      0.88      1042\n",
            "           1       0.69      0.56      0.62       365\n",
            "\n",
            "   micro avg       0.82      0.82      0.82      1407\n",
            "   macro avg       0.77      0.73      0.75      1407\n",
            "weighted avg       0.81      0.82      0.81      1407\n",
            "\n",
            "Accuracy Score :  0.820184790334044\n",
            "\n",
            "\n",
            "\n"
          ],
          "name": "stdout"
        },
        {
          "output_type": "execute_result",
          "data": {
            "text/plain": [
              "<matplotlib.axes._subplots.AxesSubplot at 0x7f08857fd940>"
            ]
          },
          "metadata": {
            "tags": []
          },
          "execution_count": 96
        },
        {
          "output_type": "display_data",
          "data": {
            "image/png": "[encoded data removed]",
            "text/plain": [
              "<Figure size 720x504 with 2 Axes>"
            ]
          },
          "metadata": {
            "tags": []
          }
        }
      ]
    },
    {
      "metadata": {
        "id": "jMGHpeOHHwFY",
        "colab_type": "text"
      },
      "cell_type": "markdown",
      "source": [
        "### Logistic Regression (with PCA)"
      ]
    },
    {
      "metadata": {
        "id": "YWT33xmQH1I-",
        "colab_type": "code",
        "outputId": "ca91ad17-8efc-46cf-96a2-e662ff9694c4",
        "colab": {
          "base_uri": "https://localhost:8080/",
          "height": 849
        }
      },
      "cell_type": "code",
      "source": [
        "model = LogisticRegression()\n",
        "\n",
        "model.fit(X_train_pca,y_train)\n",
        "predictions   = model.predict(X_test_pca)\n",
        "probabilities = model.predict_proba(X_test_pca)\n",
        "coefficients  = pd.DataFrame(model.coef_.ravel())\n",
        "\n",
        "print(model)\n",
        "cr_lr_pca = classification_report(y_test,predictions)\n",
        "print(\"\\n Classification report : \\n\",cr_lr_pca)\n",
        "acc_lr_pca = accuracy_score(y_test,predictions)\n",
        "print(\"Accuracy Score : \",acc_lr_pca)\n",
        "print(\"\\n\\n\")\n",
        "\n",
        "plt.figure(figsize = (10,7))\n",
        "sns.set(font_scale=1.4)\n",
        "sns.heatmap(confusion_matrix(y_test,predictions), annot=True, fmt='g')"
      ],
      "execution_count": 20,
      "outputs": [
        {
          "output_type": "stream",
          "text": [
            "LogisticRegression(C=1.0, class_weight=None, dual=False, fit_intercept=True,\n",
            "          intercept_scaling=1, max_iter=100, multi_class='warn',\n",
            "          n_jobs=None, penalty='l2', random_state=None, solver='warn',\n",
            "          tol=0.0001, verbose=0, warm_start=False)\n",
            "\n",
            " Classification report : \n",
            "               precision    recall  f1-score   support\n",
            "\n",
            "           0       0.84      0.91      0.88      1042\n",
            "           1       0.67      0.52      0.59       365\n",
            "\n",
            "   micro avg       0.81      0.81      0.81      1407\n",
            "   macro avg       0.76      0.72      0.73      1407\n",
            "weighted avg       0.80      0.81      0.80      1407\n",
            "\n",
            "Accuracy Score :  0.8095238095238095\n",
            "\n",
            "\n",
            "\n"
          ],
          "name": "stdout"
        },
        {
          "output_type": "stream",
          "text": [
            "/usr/local/lib/python3.6/dist-packages/sklearn/linear_model/logistic.py:433: FutureWarning: Default solver will be changed to 'lbfgs' in 0.22. Specify a solver to silence this warning.\n",
            "  FutureWarning)\n"
          ],
          "name": "stderr"
        },
        {
          "output_type": "execute_result",
          "data": {
            "text/plain": [
              "<matplotlib.axes._subplots.AxesSubplot at 0x7f08b8f75da0>"
            ]
          },
          "metadata": {
            "tags": []
          },
          "execution_count": 20
        },
        {
          "output_type": "display_data",
          "data": {
            "image/png": "[encoded data removed]",
            "text/plain": [
              "<Figure size 720x504 with 2 Axes>"
            ]
          },
          "metadata": {
            "tags": []
          }
        }
      ]
    },
    {
      "metadata": {
        "id": "b8J7GDfTJPGS",
        "colab_type": "text"
      },
      "cell_type": "markdown",
      "source": [
        "## Decision Tree\n"
      ]
    },
    {
      "metadata": {
        "id": "NvyCuXq6JpDU",
        "colab_type": "text"
      },
      "cell_type": "markdown",
      "source": [
        "### Decision Tree (with Min-Max Scaling)"
      ]
    },
    {
      "metadata": {
        "id": "awmI_91wJwRi",
        "colab_type": "code",
        "outputId": "d37d5919-eb16-4018-89e8-20369ce94104",
        "colab": {
          "base_uri": "https://localhost:8080/",
          "height": 829
        }
      },
      "cell_type": "code",
      "source": [
        "from sklearn.tree import DecisionTreeClassifier\n",
        "\n",
        "model = DecisionTreeClassifier(criterion=\"entropy\", max_depth=5)\n",
        "model.fit(X_train_mm, y_train)\n",
        "predictions   = model.predict(X_test_mm)\n",
        "probabilities = model.predict_proba(X_test_mm)\n",
        "\n",
        "\n",
        "print(model)\n",
        "cr_dt_mm = classification_report(y_test,predictions)\n",
        "print(\"\\n Classification report : \\n\",cr_dt_mm)\n",
        "acc_dt_mm = accuracy_score(y_test,predictions)\n",
        "print(\"Accuracy Score : \",acc_dt_mm)\n",
        "print(\"\\n\\n\")\n",
        "\n",
        "plt.figure(figsize = (10,7))\n",
        "sns.set(font_scale=1.4)\n",
        "sns.heatmap(confusion_matrix(y_test,predictions), annot=True, fmt='g')\n",
        "\n"
      ],
      "execution_count": 21,
      "outputs": [
        {
          "output_type": "stream",
          "text": [
            "DecisionTreeClassifier(class_weight=None, criterion='entropy', max_depth=5,\n",
            "            max_features=None, max_leaf_nodes=None,\n",
            "            min_impurity_decrease=0.0, min_impurity_split=None,\n",
            "            min_samples_leaf=1, min_samples_split=2,\n",
            "            min_weight_fraction_leaf=0.0, presort=False, random_state=None,\n",
            "            splitter='best')\n",
            "\n",
            " Classification report : \n",
            "               precision    recall  f1-score   support\n",
            "\n",
            "           0       0.87      0.88      0.87      1042\n",
            "           1       0.65      0.61      0.63       365\n",
            "\n",
            "   micro avg       0.81      0.81      0.81      1407\n",
            "   macro avg       0.76      0.75      0.75      1407\n",
            "weighted avg       0.81      0.81      0.81      1407\n",
            "\n",
            "Accuracy Score :  0.8130774697938877\n",
            "\n",
            "\n",
            "\n"
          ],
          "name": "stdout"
        },
        {
          "output_type": "execute_result",
          "data": {
            "text/plain": [
              "<matplotlib.axes._subplots.AxesSubplot at 0x7f08a4c7d5f8>"
            ]
          },
          "metadata": {
            "tags": []
          },
          "execution_count": 21
        },
        {
          "output_type": "display_data",
          "data": {
            "image/png": "[encoded data removed]",
            "text/plain": [
              "<Figure size 720x504 with 2 Axes>"
            ]
          },
          "metadata": {
            "tags": []
          }
        }
      ]
    },
    {
      "metadata": {
        "id": "cb6pAzsi_RZK",
        "colab_type": "text"
      },
      "cell_type": "markdown",
      "source": [
        "### Decision Tree (with PCA)"
      ]
    },
    {
      "metadata": {
        "id": "OzrIcKCW_Y0E",
        "colab_type": "code",
        "outputId": "a8a56397-9299-4fc9-eaa9-dc3070b02aed",
        "colab": {
          "base_uri": "https://localhost:8080/",
          "height": 829
        }
      },
      "cell_type": "code",
      "source": [
        "model = DecisionTreeClassifier(criterion=\"gini\", max_depth=5)\n",
        "model.fit(X_train_pca, y_train)\n",
        "predictions   = model.predict(X_test_pca)\n",
        "probabilities = model.predict_proba(X_test_pca)\n",
        "\n",
        "print(model)\n",
        "cr_dt_pca = classification_report(y_test,predictions)\n",
        "print(\"\\n Classification report : \\n\",cr_dt_pca)\n",
        "acc_dt_pca = accuracy_score(y_test,predictions)\n",
        "print(\"Accuracy Score : \",acc_dt_pca)\n",
        "print(\"\\n\\n\")\n",
        "\n",
        "plt.figure(figsize = (10,7))\n",
        "sns.set(font_scale=1.4)\n",
        "sns.heatmap(confusion_matrix(y_test,predictions), annot=True, fmt='g')"
      ],
      "execution_count": 22,
      "outputs": [
        {
          "output_type": "stream",
          "text": [
            "DecisionTreeClassifier(class_weight=None, criterion='gini', max_depth=5,\n",
            "            max_features=None, max_leaf_nodes=None,\n",
            "            min_impurity_decrease=0.0, min_impurity_split=None,\n",
            "            min_samples_leaf=1, min_samples_split=2,\n",
            "            min_weight_fraction_leaf=0.0, presort=False, random_state=None,\n",
            "            splitter='best')\n",
            "\n",
            " Classification report : \n",
            "               precision    recall  f1-score   support\n",
            "\n",
            "           0       0.82      0.91      0.86      1042\n",
            "           1       0.63      0.44      0.52       365\n",
            "\n",
            "   micro avg       0.79      0.79      0.79      1407\n",
            "   macro avg       0.73      0.68      0.69      1407\n",
            "weighted avg       0.77      0.79      0.77      1407\n",
            "\n",
            "Accuracy Score :  0.7882018479033405\n",
            "\n",
            "\n",
            "\n"
          ],
          "name": "stdout"
        },
        {
          "output_type": "execute_result",
          "data": {
            "text/plain": [
              "<matplotlib.axes._subplots.AxesSubplot at 0x7f08a4bf19b0>"
            ]
          },
          "metadata": {
            "tags": []
          },
          "execution_count": 22
        },
        {
          "output_type": "display_data",
          "data": {
            "image/png": "[encoded data removed]",
            "text/plain": [
              "<Figure size 720x504 with 2 Axes>"
            ]
          },
          "metadata": {
            "tags": []
          }
        }
      ]
    },
    {
      "metadata": {
        "id": "Mq_PzT8donMS",
        "colab_type": "text"
      },
      "cell_type": "markdown",
      "source": [
        "### Decision Tree (Baseline)"
      ]
    },
    {
      "metadata": {
        "id": "0Cv-cmiIoHxH",
        "colab_type": "code",
        "outputId": "06aecf25-e68e-4ffe-cbf9-658b1e5407d4",
        "colab": {
          "base_uri": "https://localhost:8080/",
          "height": 829
        }
      },
      "cell_type": "code",
      "source": [
        "model = DecisionTreeClassifier(criterion=\"entropy\", max_depth=4)\n",
        "model.fit(X_train, y_train)\n",
        "predictions   = model.predict(X_test)\n",
        "probabilities = model.predict_proba(X_test)\n",
        "\n",
        "print(model)\n",
        "cr_dt = classification_report(y_test,predictions)\n",
        "print(\"\\n Classification report : \\n\",cr_dt)\n",
        "acc_dt = accuracy_score(y_test,predictions)\n",
        "print(\"Accuracy Score : \",acc_dt)\n",
        "print(\"\\n\\n\")\n",
        "\n",
        "plt.figure(figsize = (10,7))\n",
        "sns.set(font_scale=1.4)\n",
        "sns.heatmap(confusion_matrix(y_test,predictions), annot=True, fmt='g')"
      ],
      "execution_count": 98,
      "outputs": [
        {
          "output_type": "stream",
          "text": [
            "DecisionTreeClassifier(class_weight=None, criterion='entropy', max_depth=4,\n",
            "            max_features=None, max_leaf_nodes=None,\n",
            "            min_impurity_decrease=0.0, min_impurity_split=None,\n",
            "            min_samples_leaf=1, min_samples_split=2,\n",
            "            min_weight_fraction_leaf=0.0, presort=False, random_state=None,\n",
            "            splitter='best')\n",
            "\n",
            " Classification report : \n",
            "               precision    recall  f1-score   support\n",
            "\n",
            "           0       0.84      0.93      0.88      1042\n",
            "           1       0.70      0.48      0.57       365\n",
            "\n",
            "   micro avg       0.81      0.81      0.81      1407\n",
            "   macro avg       0.77      0.71      0.73      1407\n",
            "weighted avg       0.80      0.81      0.80      1407\n",
            "\n",
            "Accuracy Score :  0.8130774697938877\n",
            "\n",
            "\n",
            "\n"
          ],
          "name": "stdout"
        },
        {
          "output_type": "execute_result",
          "data": {
            "text/plain": [
              "<matplotlib.axes._subplots.AxesSubplot at 0x7f08857f6630>"
            ]
          },
          "metadata": {
            "tags": []
          },
          "execution_count": 98
        },
        {
          "output_type": "display_data",
          "data": {
            "image/png": "[encoded data removed]",
            "text/plain": [
              "<Figure size 720x504 with 2 Axes>"
            ]
          },
          "metadata": {
            "tags": []
          }
        }
      ]
    },
    {
      "metadata": {
        "id": "Ogi9_Hp3ov5W",
        "colab_type": "text"
      },
      "cell_type": "markdown",
      "source": [
        "### Random Forest (with Min-Max Scaling)"
      ]
    },
    {
      "metadata": {
        "id": "Z5I3ZxCro3WN",
        "colab_type": "code",
        "outputId": "7762a188-14ed-4a65-c2ff-5ba45ff727b4",
        "colab": {
          "base_uri": "https://localhost:8080/",
          "height": 811
        }
      },
      "cell_type": "code",
      "source": [
        "from sklearn.ensemble import RandomForestClassifier\n",
        "\n",
        "model = RandomForestClassifier(n_estimators=1000 , oob_score = True, max_features = \"auto\", max_leaf_nodes = 30)\n",
        "model.fit(X_train_mm, y_train)\n",
        "predictions   = model.predict(X_test_mm)\n",
        "probabilities = model.predict_proba(X_test_mm)\n",
        "\n",
        "print(model)\n",
        "cr_rf_mm = classification_report(y_test,predictions)\n",
        "print(\"\\n Classification report : \\n\",cr_rf_mm)\n",
        "acc_rf_mm = accuracy_score(y_test,predictions)\n",
        "print(\"Accuracy Score : \",acc_rf_mm)\n",
        "print(\"\\n\\n\")\n",
        "\n",
        "plt.figure(figsize = (10,7))\n",
        "sns.set(font_scale=1.4)\n",
        "sns.heatmap(confusion_matrix(y_test,predictions), annot=True, fmt='g')\n",
        "\n",
        "feature_imp = pd.Series(model.feature_importances_).sort_values(ascending=False)\n",
        "#feature_imp"
      ],
      "execution_count": 99,
      "outputs": [
        {
          "output_type": "stream",
          "text": [
            "RandomForestClassifier(bootstrap=True, class_weight=None, criterion='gini',\n",
            "            max_depth=None, max_features='auto', max_leaf_nodes=30,\n",
            "            min_impurity_decrease=0.0, min_impurity_split=None,\n",
            "            min_samples_leaf=1, min_samples_split=2,\n",
            "            min_weight_fraction_leaf=0.0, n_estimators=1000, n_jobs=None,\n",
            "            oob_score=True, random_state=None, verbose=0, warm_start=False)\n",
            "\n",
            " Classification report : \n",
            "               precision    recall  f1-score   support\n",
            "\n",
            "           0       0.84      0.94      0.89      1042\n",
            "           1       0.73      0.49      0.59       365\n",
            "\n",
            "   micro avg       0.82      0.82      0.82      1407\n",
            "   macro avg       0.78      0.71      0.74      1407\n",
            "weighted avg       0.81      0.82      0.81      1407\n",
            "\n",
            "Accuracy Score :  0.820184790334044\n",
            "\n",
            "\n",
            "\n"
          ],
          "name": "stdout"
        },
        {
          "output_type": "display_data",
          "data": {
            "image/png": "[encoded data removed]",
            "text/plain": [
              "<Figure size 720x504 with 2 Axes>"
            ]
          },
          "metadata": {
            "tags": []
          }
        }
      ]
    },
    {
      "metadata": {
        "id": "l8SPr-RRtGqN",
        "colab_type": "text"
      },
      "cell_type": "markdown",
      "source": [
        "## SVM"
      ]
    },
    {
      "metadata": {
        "id": "iGDQIoAKtIto",
        "colab_type": "code",
        "colab": {}
      },
      "cell_type": "code",
      "source": [
        ""
      ],
      "execution_count": 0,
      "outputs": []
    },
    {
      "metadata": {
        "id": "ztaaPOdwtXWi",
        "colab_type": "text"
      },
      "cell_type": "markdown",
      "source": [
        "### SVM (with Min-Max Scaling)"
      ]
    },
    {
      "metadata": {
        "id": "w3FP-T4itatZ",
        "colab_type": "code",
        "outputId": "b5ae5041-682a-4516-e4cc-5c712480770c",
        "colab": {
          "base_uri": "https://localhost:8080/",
          "height": 794
        }
      },
      "cell_type": "code",
      "source": [
        "from sklearn.svm import SVC\n",
        "model = SVC(kernel='linear')\n",
        "model.fit(X_train_mm, y_train)\n",
        "predictions   = model.predict(X_test_mm)\n",
        "\n",
        "print(model)\n",
        "cr_svm_mm = classification_report(y_test,predictions)\n",
        "print(\"\\n Classification report : \\n\",cr_svm_mm)\n",
        "acc_svm_mm = accuracy_score(y_test,predictions)\n",
        "print(\"Accuracy Score : \",acc_svm_mm)\n",
        "print(\"\\n\\n\")\n",
        "\n",
        "plt.figure(figsize = (10,7))\n",
        "sns.set(font_scale=1.4)\n",
        "sns.heatmap(confusion_matrix(y_test,predictions), annot=True, fmt='g')\n"
      ],
      "execution_count": 25,
      "outputs": [
        {
          "output_type": "stream",
          "text": [
            "SVC(C=1.0, cache_size=200, class_weight=None, coef0=0.0,\n",
            "  decision_function_shape='ovr', degree=3, gamma='auto_deprecated',\n",
            "  kernel='linear', max_iter=-1, probability=False, random_state=None,\n",
            "  shrinking=True, tol=0.001, verbose=False)\n",
            "\n",
            " Classification report : \n",
            "               precision    recall  f1-score   support\n",
            "\n",
            "           0       0.85      0.91      0.88      1042\n",
            "           1       0.69      0.55      0.61       365\n",
            "\n",
            "   micro avg       0.82      0.82      0.82      1407\n",
            "   macro avg       0.77      0.73      0.75      1407\n",
            "weighted avg       0.81      0.82      0.81      1407\n",
            "\n",
            "Accuracy Score :  0.820184790334044\n",
            "\n",
            "\n",
            "\n"
          ],
          "name": "stdout"
        },
        {
          "output_type": "execute_result",
          "data": {
            "text/plain": [
              "<matplotlib.axes._subplots.AxesSubplot at 0x7f08a91a86a0>"
            ]
          },
          "metadata": {
            "tags": []
          },
          "execution_count": 25
        },
        {
          "output_type": "display_data",
          "data": {
            "image/png": "[encoded data removed]",
            "text/plain": [
              "<Figure size 720x504 with 2 Axes>"
            ]
          },
          "metadata": {
            "tags": []
          }
        }
      ]
    },
    {
      "metadata": {
        "id": "V2aIKOLHuLwX",
        "colab_type": "text"
      },
      "cell_type": "markdown",
      "source": [
        "### SVM (with PCA)"
      ]
    },
    {
      "metadata": {
        "id": "bhf0Qv_SuOUV",
        "colab_type": "code",
        "outputId": "8d493d56-3e71-4956-b653-688fceef775f",
        "colab": {
          "base_uri": "https://localhost:8080/",
          "height": 794
        }
      },
      "cell_type": "code",
      "source": [
        "from sklearn.svm import SVC\n",
        "model = SVC(gamma='scale', kernel='linear')\n",
        "model.fit(X_train_pca, y_train)\n",
        "predictions   = model.predict(X_test_pca)\n",
        "\n",
        "print(model)\n",
        "cr_svm_pca = classification_report(y_test,predictions)\n",
        "print(\"\\n Classification report : \\n\",cr_svm_pca)\n",
        "acc_svm_pca = accuracy_score(y_test,predictions)\n",
        "print(\"Accuracy Score : \",acc_svm_pca)\n",
        "print(\"\\n\\n\")\n",
        "\n",
        "plt.figure(figsize = (10,7))\n",
        "sns.set(font_scale=1.4)\n",
        "sns.heatmap(confusion_matrix(y_test,predictions), annot=True, fmt='g')\n"
      ],
      "execution_count": 26,
      "outputs": [
        {
          "output_type": "stream",
          "text": [
            "SVC(C=1.0, cache_size=200, class_weight=None, coef0=0.0,\n",
            "  decision_function_shape='ovr', degree=3, gamma='scale', kernel='linear',\n",
            "  max_iter=-1, probability=False, random_state=None, shrinking=True,\n",
            "  tol=0.001, verbose=False)\n",
            "\n",
            " Classification report : \n",
            "               precision    recall  f1-score   support\n",
            "\n",
            "           0       0.85      0.91      0.88      1042\n",
            "           1       0.67      0.54      0.60       365\n",
            "\n",
            "   micro avg       0.81      0.81      0.81      1407\n",
            "   macro avg       0.76      0.72      0.74      1407\n",
            "weighted avg       0.80      0.81      0.81      1407\n",
            "\n",
            "Accuracy Score :  0.8130774697938877\n",
            "\n",
            "\n",
            "\n"
          ],
          "name": "stdout"
        },
        {
          "output_type": "execute_result",
          "data": {
            "text/plain": [
              "<matplotlib.axes._subplots.AxesSubplot at 0x7f08a4a00128>"
            ]
          },
          "metadata": {
            "tags": []
          },
          "execution_count": 26
        },
        {
          "output_type": "display_data",
          "data": {
            "image/png": "[encoded data removed]",
            "text/plain": [
              "<Figure size 720x504 with 2 Axes>"
            ]
          },
          "metadata": {
            "tags": []
          }
        }
      ]
    },
    {
      "metadata": {
        "id": "E7Ldfp3svI_Q",
        "colab_type": "text"
      },
      "cell_type": "markdown",
      "source": [
        "## Neural Network"
      ]
    },
    {
      "metadata": {
        "id": "xO9zJnAsvMc_",
        "colab_type": "code",
        "outputId": "63235d71-04b2-40c8-edc4-eb6d205b79ec",
        "colab": {
          "base_uri": "https://localhost:8080/",
          "height": 52
        }
      },
      "cell_type": "code",
      "source": [
        "from keras.models import Sequential\n",
        "from keras.layers import Dense\n",
        "import numpy\n",
        "# fix random seed for reproducibility\n",
        "numpy.random.seed(7)\n",
        "X_train_mm.shape"
      ],
      "execution_count": 27,
      "outputs": [
        {
          "output_type": "stream",
          "text": [
            "Using TensorFlow backend.\n"
          ],
          "name": "stderr"
        },
        {
          "output_type": "execute_result",
          "data": {
            "text/plain": [
              "(5625, 45)"
            ]
          },
          "metadata": {
            "tags": []
          },
          "execution_count": 27
        }
      ]
    },
    {
      "metadata": {
        "id": "OAmIX35S3QLr",
        "colab_type": "text"
      },
      "cell_type": "markdown",
      "source": [
        "### Neural Network (with Min-Max Scaling)"
      ]
    },
    {
      "metadata": {
        "id": "AZUVhvMewHCd",
        "colab_type": "code",
        "outputId": "07a3e779-1f92-46bf-8993-68b427234e8d",
        "colab": {
          "base_uri": "https://localhost:8080/",
          "height": 866
        }
      },
      "cell_type": "code",
      "source": [
        "model = Sequential()\n",
        "model.add(Dense(25, input_dim=45, activation='relu'))\n",
        "model.add(Dense(9, activation='relu'))\n",
        "model.add(Dense(1, activation='sigmoid'))\n",
        "\n",
        "model.compile(loss='binary_crossentropy', optimizer='adam', metrics=['accuracy'])\n",
        "\n",
        "model.fit(X_train_mm, y_train, epochs=200, batch_size=40, verbose=0)\n",
        "\n",
        "predictions_init = model.predict(X_test_mm)\n",
        "predictions = [round(x[0]) for x in predictions_init]\n",
        "\n",
        "print(model)\n",
        "cr_nn_mm = classification_report(y_test,predictions)\n",
        "print(\"\\n Classification report : \\n\",cr_nn_mm)\n",
        "acc_nn_mm = accuracy_score(y_test,predictions)\n",
        "print(\"Accuracy Score : \",acc_nn_mm)\n",
        "print(\"\\n\\n\")\n",
        "\n",
        "plt.figure(figsize = (10,7))\n",
        "sns.set(font_scale=1.4)\n",
        "sns.heatmap(confusion_matrix(y_test,predictions), annot=True, fmt='g')\n"
      ],
      "execution_count": 28,
      "outputs": [
        {
          "output_type": "stream",
          "text": [
            "WARNING:tensorflow:From /usr/local/lib/python3.6/dist-packages/tensorflow/python/framework/op_def_library.py:263: colocate_with (from tensorflow.python.framework.ops) is deprecated and will be removed in a future version.\n",
            "Instructions for updating:\n",
            "Colocations handled automatically by placer.\n",
            "WARNING:tensorflow:From /usr/local/lib/python3.6/dist-packages/tensorflow/python/ops/math_ops.py:3066: to_int32 (from tensorflow.python.ops.math_ops) is deprecated and will be removed in a future version.\n",
            "Instructions for updating:\n",
            "Use tf.cast instead.\n",
            "<keras.engine.sequential.Sequential object at 0x7f08945bab38>\n",
            "\n",
            " Classification report : \n",
            "               precision    recall  f1-score   support\n",
            "\n",
            "           0       0.84      0.89      0.86      1042\n",
            "           1       0.62      0.50      0.55       365\n",
            "\n",
            "   micro avg       0.79      0.79      0.79      1407\n",
            "   macro avg       0.73      0.70      0.71      1407\n",
            "weighted avg       0.78      0.79      0.78      1407\n",
            "\n",
            "Accuracy Score :  0.7896233120113717\n",
            "\n",
            "\n",
            "\n"
          ],
          "name": "stdout"
        },
        {
          "output_type": "execute_result",
          "data": {
            "text/plain": [
              "<matplotlib.axes._subplots.AxesSubplot at 0x7f088f1231d0>"
            ]
          },
          "metadata": {
            "tags": []
          },
          "execution_count": 28
        },
        {
          "output_type": "display_data",
          "data": {
            "image/png": "[encoded data removed]",
            "text/plain": [
              "<Figure size 720x504 with 2 Axes>"
            ]
          },
          "metadata": {
            "tags": []
          }
        }
      ]
    },
    {
      "metadata": {
        "id": "xmOYZhmCi0ME",
        "colab_type": "text"
      },
      "cell_type": "markdown",
      "source": [
        "### Neural Network (with PCA)"
      ]
    },
    {
      "metadata": {
        "id": "5B2KPDyU05D5",
        "colab_type": "code",
        "outputId": "4290d166-b36c-4c8e-c01d-48e0ae7c6778",
        "colab": {
          "base_uri": "https://localhost:8080/",
          "height": 741
        }
      },
      "cell_type": "code",
      "source": [
        "model = Sequential()\n",
        "model.add(Dense(14, input_dim=16, activation='relu'))\n",
        "model.add(Dense(8, activation='relu'))\n",
        "model.add(Dense(1, activation='sigmoid'))\n",
        "\n",
        "model.compile(loss='binary_crossentropy', optimizer='adam', metrics=['accuracy'])\n",
        "\n",
        "model.fit(X_train_pca, y_train, epochs=300, batch_size=30, verbose=0)\n",
        "\n",
        "predictions_init = model.predict(X_test_pca)\n",
        "predictions = [round(x[0]) for x in predictions_init]\n",
        "\n",
        "print(model)\n",
        "cr_nn_pca = classification_report(y_test,predictions)\n",
        "print(\"\\n Classification report : \\n\",cr_nn_pca)\n",
        "acc_nn_pca = accuracy_score(y_test,predictions)\n",
        "print(\"Accuracy Score : \",acc_nn_pca)\n",
        "print(\"\\n\\n\")\n",
        "\n",
        "plt.figure(figsize = (10,7))\n",
        "sns.set(font_scale=1.4)\n",
        "sns.heatmap(confusion_matrix(y_test,predictions), annot=True, fmt='g')\n"
      ],
      "execution_count": 29,
      "outputs": [
        {
          "output_type": "stream",
          "text": [
            "<keras.engine.sequential.Sequential object at 0x7f088f123c18>\n",
            "\n",
            " Classification report : \n",
            "               precision    recall  f1-score   support\n",
            "\n",
            "           0       0.84      0.90      0.87      1042\n",
            "           1       0.63      0.50      0.56       365\n",
            "\n",
            "   micro avg       0.79      0.79      0.79      1407\n",
            "   macro avg       0.73      0.70      0.71      1407\n",
            "weighted avg       0.78      0.79      0.79      1407\n",
            "\n",
            "Accuracy Score :  0.7938877043354655\n",
            "\n",
            "\n",
            "\n"
          ],
          "name": "stdout"
        },
        {
          "output_type": "execute_result",
          "data": {
            "text/plain": [
              "<matplotlib.axes._subplots.AxesSubplot at 0x7f088e43c828>"
            ]
          },
          "metadata": {
            "tags": []
          },
          "execution_count": 29
        },
        {
          "output_type": "display_data",
          "data": {
            "image/png": "[encoded data removed]",
            "text/plain": [
              "<Figure size 720x504 with 2 Axes>"
            ]
          },
          "metadata": {
            "tags": []
          }
        }
      ]
    },
    {
      "metadata": {
        "id": "w2L-UbINi6eN",
        "colab_type": "text"
      },
      "cell_type": "markdown",
      "source": [
        "## Boosting Algorithms"
      ]
    },
    {
      "metadata": {
        "id": "owUN7T-0jCqQ",
        "colab_type": "text"
      },
      "cell_type": "markdown",
      "source": [
        "### AdaBoost (with Min-Max Scaling)\n"
      ]
    },
    {
      "metadata": {
        "id": "Y11Ii0iwjE7T",
        "colab_type": "code",
        "colab": {
          "base_uri": "https://localhost:8080/",
          "height": 758
        },
        "outputId": "079ebbdd-aa13-47ea-e7a7-e313c09b1047"
      },
      "cell_type": "code",
      "source": [
        "from sklearn.ensemble import AdaBoostClassifier\n",
        "model = AdaBoostClassifier(n_estimators=170, learning_rate=1)\n",
        "\n",
        "model.fit(X_train_mm, y_train)\n",
        "predictions = model.predict(X_test_mm)\n",
        "\n",
        "print(model)\n",
        "cr_ada_mm = classification_report(y_test,predictions)\n",
        "print(\"\\n Classification report : \\n\",cr_ada_mm)\n",
        "acc_ada_mm = accuracy_score(y_test,predictions)\n",
        "print(\"Accuracy Score : \",acc_ada_mm)\n",
        "print(\"\\n\\n\")\n",
        "\n",
        "plt.figure(figsize = (10,7))\n",
        "sns.set(font_scale=1.4)\n",
        "sns.heatmap(confusion_matrix(y_test,predictions), annot=True, fmt='g')\n"
      ],
      "execution_count": 101,
      "outputs": [
        {
          "output_type": "stream",
          "text": [
            "AdaBoostClassifier(algorithm='SAMME.R', base_estimator=None, learning_rate=1,\n",
            "          n_estimators=170, random_state=None)\n",
            "\n",
            " Classification report : \n",
            "               precision    recall  f1-score   support\n",
            "\n",
            "           0       0.85      0.91      0.88      1042\n",
            "           1       0.69      0.55      0.61       365\n",
            "\n",
            "   micro avg       0.82      0.82      0.82      1407\n",
            "   macro avg       0.77      0.73      0.75      1407\n",
            "weighted avg       0.81      0.82      0.81      1407\n",
            "\n",
            "Accuracy Score :  0.820184790334044\n",
            "\n",
            "\n",
            "\n"
          ],
          "name": "stdout"
        },
        {
          "output_type": "execute_result",
          "data": {
            "text/plain": [
              "<matplotlib.axes._subplots.AxesSubplot at 0x7f088571c4e0>"
            ]
          },
          "metadata": {
            "tags": []
          },
          "execution_count": 101
        },
        {
          "output_type": "display_data",
          "data": {
            "image/png": "[encoded data removed]",
            "text/plain": [
              "<Figure size 720x504 with 2 Axes>"
            ]
          },
          "metadata": {
            "tags": []
          }
        }
      ]
    },
    {
      "metadata": {
        "id": "JiHAvQF0gM4y",
        "colab_type": "text"
      },
      "cell_type": "markdown",
      "source": [
        "### AdaBoost (with PCA)"
      ]
    },
    {
      "metadata": {
        "id": "3OYQMrRma6rB",
        "colab_type": "code",
        "colab": {
          "base_uri": "https://localhost:8080/",
          "height": 758
        },
        "outputId": "8998d137-6ef3-487b-d670-caa3d727238a"
      },
      "cell_type": "code",
      "source": [
        "model = AdaBoostClassifier(n_estimators=150, learning_rate=1)\n",
        "\n",
        "model.fit(X_train_pca, y_train)\n",
        "predictions = model.predict(X_test_pca)\n",
        "\n",
        "print(model)\n",
        "cr_ada_pca = classification_report(y_test,predictions)\n",
        "print(\"\\n Classification report : \\n\",cr_ada_pca)\n",
        "acc_ada_pca = accuracy_score(y_test,predictions)\n",
        "print(\"Accuracy Score : \",acc_ada_pca)\n",
        "print(\"\\n\\n\")\n",
        "\n",
        "plt.figure(figsize = (10,7))\n",
        "sns.set(font_scale=1.4)\n",
        "sns.heatmap(confusion_matrix(y_test,predictions), annot=True, fmt='g')"
      ],
      "execution_count": 56,
      "outputs": [
        {
          "output_type": "stream",
          "text": [
            "AdaBoostClassifier(algorithm='SAMME.R', base_estimator=None, learning_rate=1,\n",
            "          n_estimators=150, random_state=None)\n",
            "\n",
            " Classification report : \n",
            "               precision    recall  f1-score   support\n",
            "\n",
            "           0       0.84      0.90      0.87      1042\n",
            "           1       0.65      0.52      0.58       365\n",
            "\n",
            "   micro avg       0.80      0.80      0.80      1407\n",
            "   macro avg       0.74      0.71      0.72      1407\n",
            "weighted avg       0.79      0.80      0.79      1407\n",
            "\n",
            "Accuracy Score :  0.8017057569296375\n",
            "\n",
            "\n",
            "\n"
          ],
          "name": "stdout"
        },
        {
          "output_type": "execute_result",
          "data": {
            "text/plain": [
              "<matplotlib.axes._subplots.AxesSubplot at 0x7f088d81a780>"
            ]
          },
          "metadata": {
            "tags": []
          },
          "execution_count": 56
        },
        {
          "output_type": "display_data",
          "data": {
            "image/png": "[encoded data removed]",
            "text/plain": [
              "<Figure size 720x504 with 2 Axes>"
            ]
          },
          "metadata": {
            "tags": []
          }
        }
      ]
    },
    {
      "metadata": {
        "id": "oYabLFmegZpE",
        "colab_type": "text"
      },
      "cell_type": "markdown",
      "source": [
        "### XGBoost (with Min-Max Scaling)"
      ]
    },
    {
      "metadata": {
        "id": "y5nSTDKNdwOo",
        "colab_type": "code",
        "colab": {
          "base_uri": "https://localhost:8080/",
          "height": 846
        },
        "outputId": "e941715d-a47d-48be-8c9e-1cd19615b71c"
      },
      "cell_type": "code",
      "source": [
        "from xgboost import XGBClassifier\n",
        "\n",
        "model = XGBClassifier(learning_rate=0.1,  \n",
        "                      colsample_bytree = 0.4,\n",
        "                      subsample = 0.8,\n",
        "                      objective='binary:logistic', \n",
        "                      n_estimators=1000, \n",
        "                      reg_alpha = 0.3,\n",
        "                      max_depth=4, \n",
        "                      gamma=10)\n",
        "\n",
        "model = XGBClassifier(booster='dart', learning_rate=0.1, min_split_loss=0.5, tree_method='exact')\n",
        "\n",
        "\n",
        "model.fit(X_train_mm, y_train)\n",
        "predictions = model.predict(X_test_mm)\n",
        "\n",
        "print(model)\n",
        "cr_xgb_mm = classification_report(y_test,predictions)\n",
        "print(\"\\n Classification report : \\n\",cr_xgb_mm)\n",
        "acc_xgb_mm = accuracy_score(y_test,predictions)\n",
        "print(\"Accuracy Score : \",acc_xgb_mm)\n",
        "print(\"\\n\\n\")\n",
        "\n",
        "plt.figure(figsize = (10,7))\n",
        "sns.set(font_scale=1.4)\n",
        "sns.heatmap(confusion_matrix(y_test,predictions), annot=True, fmt='g')\n",
        "\n"
      ],
      "execution_count": 125,
      "outputs": [
        {
          "output_type": "stream",
          "text": [
            "XGBClassifier(base_score=0.5, booster='dart', colsample_bylevel=1,\n",
            "       colsample_bytree=1, gamma=0, learning_rate=0.1, max_delta_step=0,\n",
            "       max_depth=3, min_child_weight=1, min_split_loss=0.5, missing=None,\n",
            "       n_estimators=100, n_jobs=1, nthread=None,\n",
            "       objective='binary:logistic', random_state=0, reg_alpha=0,\n",
            "       reg_lambda=1, scale_pos_weight=1, seed=None, silent=True,\n",
            "       subsample=1, tree_method='exact')\n",
            "\n",
            " Classification report : \n",
            "               precision    recall  f1-score   support\n",
            "\n",
            "           0       0.86      0.92      0.89      1042\n",
            "           1       0.72      0.57      0.63       365\n",
            "\n",
            "   micro avg       0.83      0.83      0.83      1407\n",
            "   macro avg       0.79      0.74      0.76      1407\n",
            "weighted avg       0.82      0.83      0.82      1407\n",
            "\n",
            "Accuracy Score :  0.830135039090263\n",
            "\n",
            "\n",
            "\n"
          ],
          "name": "stdout"
        },
        {
          "output_type": "execute_result",
          "data": {
            "text/plain": [
              "<matplotlib.axes._subplots.AxesSubplot at 0x7f08853c0748>"
            ]
          },
          "metadata": {
            "tags": []
          },
          "execution_count": 125
        },
        {
          "output_type": "display_data",
          "data": {
            "image/png": "[encoded data removed]",
            "text/plain": [
              "<Figure size 720x504 with 2 Axes>"
            ]
          },
          "metadata": {
            "tags": []
          }
        }
      ]
    },
    {
      "metadata": {
        "id": "drfIvRCZbwqI",
        "colab_type": "text"
      },
      "cell_type": "markdown",
      "source": [
        "### XGBoost (with PCA)"
      ]
    },
    {
      "metadata": {
        "id": "GasKRhOEbvCd",
        "colab_type": "code",
        "colab": {
          "base_uri": "https://localhost:8080/",
          "height": 1014
        },
        "outputId": "6fcf5643-c0d7-4c9c-9cb8-d34c7e74c1b6"
      },
      "cell_type": "code",
      "source": [
        "from xgboost import XGBClassifier\n",
        "\n",
        "'''\n",
        "model = XGBClassifier(silent=False, \n",
        "                      learning_rate=0.01,  \n",
        "                      colsample_bytree = 0.4,\n",
        "                      subsample = 0.8,\n",
        "                      objective='binary:logistic', \n",
        "                      n_estimators=1000, \n",
        "                      reg_alpha = 0.3,\n",
        "                      max_depth=4, \n",
        "                      gamma=10)\n",
        "'''\n",
        "model = XGBClassifier(booster='dart', learning_rate=0.1, min_split_loss=0.5)\n",
        "\n",
        "\n",
        "model.fit(X_train_pca, y_train)\n",
        "predictions = model.predict(X_test_pca)\n",
        "\n",
        "print(model)\n",
        "cr_xgb_pca = classification_report(y_test,predictions)\n",
        "print(\"\\n Classification report : \\n\",cr_xgb_pca)\n",
        "acc_xgb_pca = accuracy_score(y_test,predictions)\n",
        "print(\"Accuracy Score : \",acc_xgb_pca)\n",
        "print(\"\\n\\n\")\n",
        "\n",
        "plt.figure(figsize = (10,7))\n",
        "sns.set(font_scale=1.4)\n",
        "sns.heatmap(confusion_matrix(y_test,predictions), annot=True, fmt='g')\n"
      ],
      "execution_count": 104,
      "outputs": [
        {
          "output_type": "stream",
          "text": [
            "XGBClassifier(base_score=0.5, booster='dart', colsample_bylevel=1,\n",
            "       colsample_bytree=1, gamma=0, learning_rate=0.1, max_delta_step=0,\n",
            "       max_depth=3, min_child_weight=1, min_split_loss=0.5, missing=None,\n",
            "       n_estimators=100, n_jobs=1, nthread=None,\n",
            "       objective='binary:logistic', random_state=0, reg_alpha=0,\n",
            "       reg_lambda=1, scale_pos_weight=1, seed=None, silent=True,\n",
            "       subsample=1)\n",
            "\n",
            " Classification report : \n",
            "               precision    recall  f1-score   support\n",
            "\n",
            "           0       0.84      0.91      0.87      1042\n",
            "           1       0.66      0.49      0.57       365\n",
            "\n",
            "   micro avg       0.80      0.80      0.80      1407\n",
            "   macro avg       0.75      0.70      0.72      1407\n",
            "weighted avg       0.79      0.80      0.79      1407\n",
            "\n",
            "Accuracy Score :  0.8038379530916845\n",
            "\n",
            "\n",
            "\n"
          ],
          "name": "stdout"
        },
        {
          "output_type": "error",
          "ename": "TypeError",
          "evalue": "ignored",
          "traceback": [
            "\u001b[0;31m---------------------------------------------------------------------------\u001b[0m",
            "\u001b[0;31mTypeError\u001b[0m                                 Traceback (most recent call last)",
            "\u001b[0;32m<ipython-input-104-6da3979d5bf2>\u001b[0m in \u001b[0;36m<module>\u001b[0;34m()\u001b[0m\n\u001b[1;32m     29\u001b[0m \u001b[0msns\u001b[0m\u001b[0;34m.\u001b[0m\u001b[0mheatmap\u001b[0m\u001b[0;34m(\u001b[0m\u001b[0mconfusion_matrix\u001b[0m\u001b[0;34m(\u001b[0m\u001b[0my_test\u001b[0m\u001b[0;34m,\u001b[0m\u001b[0mpredictions\u001b[0m\u001b[0;34m)\u001b[0m\u001b[0;34m,\u001b[0m \u001b[0mannot\u001b[0m\u001b[0;34m=\u001b[0m\u001b[0;32mTrue\u001b[0m\u001b[0;34m,\u001b[0m \u001b[0mfmt\u001b[0m\u001b[0;34m=\u001b[0m\u001b[0;34m'g'\u001b[0m\u001b[0;34m)\u001b[0m\u001b[0;34m\u001b[0m\u001b[0;34m\u001b[0m\u001b[0m\n\u001b[1;32m     30\u001b[0m \u001b[0;34m\u001b[0m\u001b[0m\n\u001b[0;32m---> 31\u001b[0;31m \u001b[0mprint\u001b[0m\u001b[0;34m(\u001b[0m\u001b[0mcr_xgb_pca\u001b[0m\u001b[0;34m[\u001b[0m\u001b[0;34m'precision'\u001b[0m\u001b[0;34m]\u001b[0m\u001b[0;34m)\u001b[0m\u001b[0;34m\u001b[0m\u001b[0;34m\u001b[0m\u001b[0m\n\u001b[0m",
            "\u001b[0;31mTypeError\u001b[0m: string indices must be integers"
          ]
        },
        {
          "output_type": "display_data",
          "data": {
            "image/png": "[encoded data removed]",
            "text/plain": [
              "<Figure size 720x504 with 2 Axes>"
            ]
          },
          "metadata": {
            "tags": []
          }
        }
      ]
    },
    {
      "metadata": {
        "id": "AqTKhJEWszRX",
        "colab_type": "text"
      },
      "cell_type": "markdown",
      "source": [
        "# Results\n"
      ]
    },
    {
      "metadata": {
        "id": "xMJRJhMehEZN",
        "colab_type": "code",
        "colab": {
          "base_uri": "https://localhost:8080/",
          "height": 562
        },
        "outputId": "cd7d7d9e-00b7-4939-f4b8-21ad11517e29"
      },
      "cell_type": "code",
      "source": [
        "def cr_output(report):\n",
        "    report_data = []\n",
        "    lines = report.split('\\n')\n",
        "    for line in lines[2:-5]:\n",
        "        \n",
        "        row = {}\n",
        "        row_data = line.split('      ')        \n",
        "        row['class'] = row_data[1].strip()\n",
        "        row['precision'] = float(row_data[2])\n",
        "        row['recall'] = float(row_data[3])\n",
        "        row['f1_score'] = float(row_data[4])\n",
        "        row['support'] = float(row_data[5])\n",
        "        report_data.append(row)\n",
        "        \n",
        "    return (report_data)\n",
        "\n",
        "\n",
        "#Cumulative Results - \n",
        "results = {\n",
        "    'Classifier' : [\n",
        "        \"Logistic Regression (with Min-Max Scaling)\",\n",
        "        \"Logistic Regression (with PCA)\",\n",
        "        \"Decision Tree (with Min-Max Scaling)\",\n",
        "        \"Decision Tree (with PCA)\",\n",
        "        \"Decision Tree (Baseline)\",\n",
        "        \"Random Forest (with Min-Max Scaling)\",\n",
        "        \"SVM (with Min-Max Scaling)\",\n",
        "        \"SVM (with PCA)\",\n",
        "        \"Neural Network (with Min-Max Scaling)\",\n",
        "        \"Neural Network (with PCA)\",\n",
        "        \"AdaBoost (with Min-Max Scaling)\",\n",
        "        \"AdaBoost (with PCA)\",\n",
        "        \"XGBoost (with Min-Max Scaling)\",\n",
        "        \"XGBoost (with PCA)\"\n",
        "]\n",
        "    ,\n",
        "    'Accuracy' : [\n",
        "        acc_lr_mm,\n",
        "        acc_lr_pca,\n",
        "        acc_dt_mm,\n",
        "        acc_dt_pca,\n",
        "        acc_dt,\n",
        "        acc_rf_mm,\n",
        "        acc_svm_mm,\n",
        "        acc_svm_pca,\n",
        "        acc_nn_mm,\n",
        "        acc_nn_pca,\n",
        "        acc_ada_mm,\n",
        "        acc_ada_pca,\n",
        "        acc_xgb_mm,\n",
        "        acc_xgb_pca\n",
        "    ]\n",
        "    ,\n",
        "    'Precision for Class 0' : [\n",
        "        cr_output(cr_lr_mm)[0]['precision'],\n",
        "        cr_output(cr_lr_pca)[0]['precision'],\n",
        "        cr_output(cr_dt_mm)[0]['precision'],\n",
        "        cr_output(cr_dt_pca)[0]['precision'],\n",
        "        cr_output(cr_dt)[0]['precision'],\n",
        "        cr_output(cr_rf_mm)[0]['precision'],\n",
        "        cr_output(cr_svm_mm)[0]['precision'],\n",
        "        cr_output(cr_svm_pca)[0]['precision'],\n",
        "        cr_output(cr_nn_mm)[0]['precision'],\n",
        "        cr_output(cr_nn_pca)[0]['precision'],\n",
        "        cr_output(cr_ada_mm)[0]['precision'],\n",
        "        cr_output(cr_ada_pca)[0]['precision'],\n",
        "        cr_output(cr_xgb_mm)[0]['precision'],\n",
        "        cr_output(cr_xgb_pca)[0]['precision']\n",
        "    ]\n",
        "    ,\n",
        "    'Precision for Class 1' : [\n",
        "        cr_output(cr_lr_mm)[1]['precision'],\n",
        "        cr_output(cr_lr_pca)[1]['precision'],\n",
        "        cr_output(cr_dt_mm)[1]['precision'],\n",
        "        cr_output(cr_dt_pca)[1]['precision'],\n",
        "        cr_output(cr_dt)[1]['precision'],\n",
        "        cr_output(cr_rf_mm)[1]['precision'],\n",
        "        cr_output(cr_svm_mm)[1]['precision'],\n",
        "        cr_output(cr_svm_pca)[1]['precision'],\n",
        "        cr_output(cr_nn_mm)[1]['precision'],\n",
        "        cr_output(cr_nn_pca)[1]['precision'],\n",
        "        cr_output(cr_ada_mm)[1]['precision'],\n",
        "        cr_output(cr_ada_pca)[1]['precision'],\n",
        "        cr_output(cr_xgb_mm)[1]['precision'],\n",
        "        cr_output(cr_xgb_pca)[1]['precision']\n",
        "    ]\n",
        "    ,\n",
        "    'Recall for Class 0' : [\n",
        "                cr_output(cr_lr_mm)[0]['recall'],\n",
        "        cr_output(cr_lr_pca)[0]['recall'],\n",
        "        cr_output(cr_dt_mm)[0]['recall'],\n",
        "        cr_output(cr_dt_pca)[0]['recall'],\n",
        "        cr_output(cr_dt)[0]['recall'],\n",
        "        cr_output(cr_rf_mm)[0]['recall'],\n",
        "        cr_output(cr_svm_mm)[0]['recall'],\n",
        "        cr_output(cr_svm_pca)[0]['recall'],\n",
        "        cr_output(cr_nn_mm)[0]['recall'],\n",
        "        cr_output(cr_nn_pca)[0]['recall'],\n",
        "        cr_output(cr_ada_mm)[0]['recall'],\n",
        "        cr_output(cr_ada_pca)[0]['recall'],\n",
        "        cr_output(cr_xgb_mm)[0]['recall'],\n",
        "        cr_output(cr_xgb_pca)[0]['recall']\n",
        "    ]\n",
        "    ,\n",
        "    'Recall for Class 1' : [\n",
        "        cr_output(cr_lr_mm)[1]['recall'],\n",
        "        cr_output(cr_lr_pca)[1]['recall'],\n",
        "        cr_output(cr_dt_mm)[1]['recall'],\n",
        "        cr_output(cr_dt_pca)[1]['recall'],\n",
        "        cr_output(cr_dt)[1]['recall'],\n",
        "        cr_output(cr_rf_mm)[1]['recall'],\n",
        "        cr_output(cr_svm_mm)[1]['recall'],\n",
        "        cr_output(cr_svm_pca)[1]['recall'],\n",
        "        cr_output(cr_nn_mm)[1]['recall'],\n",
        "        cr_output(cr_nn_pca)[1]['recall'],\n",
        "        cr_output(cr_ada_mm)[1]['recall'],\n",
        "        cr_output(cr_ada_pca)[1]['recall'],\n",
        "        cr_output(cr_xgb_mm)[1]['recall'],\n",
        "        cr_output(cr_xgb_pca)[1]['recall']\n",
        "    ]\n",
        "    ,\n",
        "    'F-Score for Class 0' : [\n",
        "        cr_output(cr_lr_mm)[0]['f1_score'],\n",
        "        cr_output(cr_lr_pca)[0]['f1_score'],\n",
        "        cr_output(cr_dt_mm)[0]['f1_score'],\n",
        "        cr_output(cr_dt_pca)[0]['f1_score'],\n",
        "        cr_output(cr_dt)[0]['f1_score'],\n",
        "        cr_output(cr_rf_mm)[0]['f1_score'],\n",
        "        cr_output(cr_svm_mm)[0]['f1_score'],\n",
        "        cr_output(cr_svm_pca)[0]['f1_score'],\n",
        "        cr_output(cr_nn_mm)[0]['f1_score'],\n",
        "        cr_output(cr_nn_pca)[0]['f1_score'],\n",
        "        cr_output(cr_ada_mm)[0]['f1_score'],\n",
        "        cr_output(cr_ada_pca)[0]['f1_score'],\n",
        "        cr_output(cr_xgb_mm)[0]['f1_score'],\n",
        "        cr_output(cr_xgb_pca)[0]['f1_score']\n",
        "    ]\n",
        "    ,\n",
        "    'F-Score for Class 1' :[\n",
        "        cr_output(cr_lr_mm)[1]['f1_score'],\n",
        "        cr_output(cr_lr_pca)[1]['f1_score'],\n",
        "        cr_output(cr_dt_mm)[1]['f1_score'],\n",
        "        cr_output(cr_dt_pca)[1]['f1_score'],\n",
        "        cr_output(cr_dt)[1]['f1_score'],\n",
        "        cr_output(cr_rf_mm)[1]['f1_score'],\n",
        "        cr_output(cr_svm_mm)[1]['f1_score'],\n",
        "        cr_output(cr_svm_pca)[1]['f1_score'],\n",
        "        cr_output(cr_nn_mm)[1]['f1_score'],\n",
        "        cr_output(cr_nn_pca)[1]['f1_score'],\n",
        "        cr_output(cr_ada_mm)[1]['f1_score'],\n",
        "        cr_output(cr_ada_pca)[1]['f1_score'],\n",
        "        cr_output(cr_xgb_mm)[1]['f1_score'],\n",
        "        cr_output(cr_xgb_pca)[1]['f1_score']\n",
        "    ]\n",
        "}\n",
        "\n",
        "result_df = pd.DataFrame.from_dict(results)\n",
        "result_df"
      ],
      "execution_count": 127,
      "outputs": [
        {
          "output_type": "execute_result",
          "data": {
            "text/html": [
              "<div>\n",
              "<style scoped>\n",
              "    .dataframe tbody tr th:only-of-type {\n",
              "        vertical-align: middle;\n",
              "    }\n",
              "\n",
              "    .dataframe tbody tr th {\n",
              "        vertical-align: top;\n",
              "    }\n",
              "\n",
              "    .dataframe thead th {\n",
              "        text-align: right;\n",
              "    }\n",
              "</style>\n",
              "<table border=\"1\" class=\"dataframe\">\n",
              "  <thead>\n",
              "    <tr style=\"text-align: right;\">\n",
              "      <th></th>\n",
              "      <th>Classifier</th>\n",
              "      <th>Accuracy</th>\n",
              "      <th>Precision for Class 0</th>\n",
              "      <th>Precision for Class 1</th>\n",
              "      <th>Recall for Class 0</th>\n",
              "      <th>Recall for Class 1</th>\n",
              "      <th>F-Score for Class 0</th>\n",
              "      <th>F-Score for Class 1</th>\n",
              "    </tr>\n",
              "  </thead>\n",
              "  <tbody>\n",
              "    <tr>\n",
              "      <th>0</th>\n",
              "      <td>Logistic Regression (with Min-Max Scaling)</td>\n",
              "      <td>0.820185</td>\n",
              "      <td>0.85</td>\n",
              "      <td>0.69</td>\n",
              "      <td>0.91</td>\n",
              "      <td>0.56</td>\n",
              "      <td>0.88</td>\n",
              "      <td>0.62</td>\n",
              "    </tr>\n",
              "    <tr>\n",
              "      <th>1</th>\n",
              "      <td>Logistic Regression (with PCA)</td>\n",
              "      <td>0.809524</td>\n",
              "      <td>0.84</td>\n",
              "      <td>0.67</td>\n",
              "      <td>0.91</td>\n",
              "      <td>0.52</td>\n",
              "      <td>0.88</td>\n",
              "      <td>0.59</td>\n",
              "    </tr>\n",
              "    <tr>\n",
              "      <th>2</th>\n",
              "      <td>Decision Tree (with Min-Max Scaling)</td>\n",
              "      <td>0.813077</td>\n",
              "      <td>0.87</td>\n",
              "      <td>0.65</td>\n",
              "      <td>0.88</td>\n",
              "      <td>0.61</td>\n",
              "      <td>0.87</td>\n",
              "      <td>0.63</td>\n",
              "    </tr>\n",
              "    <tr>\n",
              "      <th>3</th>\n",
              "      <td>Decision Tree (with PCA)</td>\n",
              "      <td>0.788202</td>\n",
              "      <td>0.82</td>\n",
              "      <td>0.63</td>\n",
              "      <td>0.91</td>\n",
              "      <td>0.44</td>\n",
              "      <td>0.86</td>\n",
              "      <td>0.52</td>\n",
              "    </tr>\n",
              "    <tr>\n",
              "      <th>4</th>\n",
              "      <td>Decision Tree (Baseline)</td>\n",
              "      <td>0.813077</td>\n",
              "      <td>0.84</td>\n",
              "      <td>0.70</td>\n",
              "      <td>0.93</td>\n",
              "      <td>0.48</td>\n",
              "      <td>0.88</td>\n",
              "      <td>0.57</td>\n",
              "    </tr>\n",
              "    <tr>\n",
              "      <th>5</th>\n",
              "      <td>Random Forest (with Min-Max Scaling)</td>\n",
              "      <td>0.820185</td>\n",
              "      <td>0.84</td>\n",
              "      <td>0.73</td>\n",
              "      <td>0.94</td>\n",
              "      <td>0.49</td>\n",
              "      <td>0.89</td>\n",
              "      <td>0.59</td>\n",
              "    </tr>\n",
              "    <tr>\n",
              "      <th>6</th>\n",
              "      <td>SVM (with Min-Max Scaling)</td>\n",
              "      <td>0.820185</td>\n",
              "      <td>0.85</td>\n",
              "      <td>0.69</td>\n",
              "      <td>0.91</td>\n",
              "      <td>0.55</td>\n",
              "      <td>0.88</td>\n",
              "      <td>0.61</td>\n",
              "    </tr>\n",
              "    <tr>\n",
              "      <th>7</th>\n",
              "      <td>SVM (with PCA)</td>\n",
              "      <td>0.813077</td>\n",
              "      <td>0.85</td>\n",
              "      <td>0.67</td>\n",
              "      <td>0.91</td>\n",
              "      <td>0.54</td>\n",
              "      <td>0.88</td>\n",
              "      <td>0.60</td>\n",
              "    </tr>\n",
              "    <tr>\n",
              "      <th>8</th>\n",
              "      <td>Neural Network (with Min-Max Scaling)</td>\n",
              "      <td>0.789623</td>\n",
              "      <td>0.84</td>\n",
              "      <td>0.62</td>\n",
              "      <td>0.89</td>\n",
              "      <td>0.50</td>\n",
              "      <td>0.86</td>\n",
              "      <td>0.55</td>\n",
              "    </tr>\n",
              "    <tr>\n",
              "      <th>9</th>\n",
              "      <td>Neural Network (with PCA)</td>\n",
              "      <td>0.793888</td>\n",
              "      <td>0.84</td>\n",
              "      <td>0.63</td>\n",
              "      <td>0.90</td>\n",
              "      <td>0.50</td>\n",
              "      <td>0.87</td>\n",
              "      <td>0.56</td>\n",
              "    </tr>\n",
              "    <tr>\n",
              "      <th>10</th>\n",
              "      <td>AdaBoost (with Min-Max Scaling)</td>\n",
              "      <td>0.820185</td>\n",
              "      <td>0.85</td>\n",
              "      <td>0.69</td>\n",
              "      <td>0.91</td>\n",
              "      <td>0.55</td>\n",
              "      <td>0.88</td>\n",
              "      <td>0.61</td>\n",
              "    </tr>\n",
              "    <tr>\n",
              "      <th>11</th>\n",
              "      <td>AdaBoost (with PCA)</td>\n",
              "      <td>0.801706</td>\n",
              "      <td>0.84</td>\n",
              "      <td>0.65</td>\n",
              "      <td>0.90</td>\n",
              "      <td>0.52</td>\n",
              "      <td>0.87</td>\n",
              "      <td>0.58</td>\n",
              "    </tr>\n",
              "    <tr>\n",
              "      <th>12</th>\n",
              "      <td>XGBoost (with Min-Max Scaling)</td>\n",
              "      <td>0.830135</td>\n",
              "      <td>0.86</td>\n",
              "      <td>0.72</td>\n",
              "      <td>0.92</td>\n",
              "      <td>0.57</td>\n",
              "      <td>0.89</td>\n",
              "      <td>0.63</td>\n",
              "    </tr>\n",
              "    <tr>\n",
              "      <th>13</th>\n",
              "      <td>XGBoost (with PCA)</td>\n",
              "      <td>0.803838</td>\n",
              "      <td>0.84</td>\n",
              "      <td>0.66</td>\n",
              "      <td>0.91</td>\n",
              "      <td>0.49</td>\n",
              "      <td>0.87</td>\n",
              "      <td>0.57</td>\n",
              "    </tr>\n",
              "  </tbody>\n",
              "</table>\n",
              "</div>"
            ],
            "text/plain": [
              "                                    Classifier  Accuracy  \\\n",
              "0   Logistic Regression (with Min-Max Scaling)  0.820185   \n",
              "1               Logistic Regression (with PCA)  0.809524   \n",
              "2         Decision Tree (with Min-Max Scaling)  0.813077   \n",
              "3                     Decision Tree (with PCA)  0.788202   \n",
              "4                     Decision Tree (Baseline)  0.813077   \n",
              "5         Random Forest (with Min-Max Scaling)  0.820185   \n",
              "6                   SVM (with Min-Max Scaling)  0.820185   \n",
              "7                               SVM (with PCA)  0.813077   \n",
              "8        Neural Network (with Min-Max Scaling)  0.789623   \n",
              "9                    Neural Network (with PCA)  0.793888   \n",
              "10             AdaBoost (with Min-Max Scaling)  0.820185   \n",
              "11                         AdaBoost (with PCA)  0.801706   \n",
              "12              XGBoost (with Min-Max Scaling)  0.830135   \n",
              "13                          XGBoost (with PCA)  0.803838   \n",
              "\n",
              "    Precision for Class 0  Precision for Class 1  Recall for Class 0  \\\n",
              "0                    0.85                   0.69                0.91   \n",
              "1                    0.84                   0.67                0.91   \n",
              "2                    0.87                   0.65                0.88   \n",
              "3                    0.82                   0.63                0.91   \n",
              "4                    0.84                   0.70                0.93   \n",
              "5                    0.84                   0.73                0.94   \n",
              "6                    0.85                   0.69                0.91   \n",
              "7                    0.85                   0.67                0.91   \n",
              "8                    0.84                   0.62                0.89   \n",
              "9                    0.84                   0.63                0.90   \n",
              "10                   0.85                   0.69                0.91   \n",
              "11                   0.84                   0.65                0.90   \n",
              "12                   0.86                   0.72                0.92   \n",
              "13                   0.84                   0.66                0.91   \n",
              "\n",
              "    Recall for Class 1  F-Score for Class 0  F-Score for Class 1  \n",
              "0                 0.56                 0.88                 0.62  \n",
              "1                 0.52                 0.88                 0.59  \n",
              "2                 0.61                 0.87                 0.63  \n",
              "3                 0.44                 0.86                 0.52  \n",
              "4                 0.48                 0.88                 0.57  \n",
              "5                 0.49                 0.89                 0.59  \n",
              "6                 0.55                 0.88                 0.61  \n",
              "7                 0.54                 0.88                 0.60  \n",
              "8                 0.50                 0.86                 0.55  \n",
              "9                 0.50                 0.87                 0.56  \n",
              "10                0.55                 0.88                 0.61  \n",
              "11                0.52                 0.87                 0.58  \n",
              "12                0.57                 0.89                 0.63  \n",
              "13                0.49                 0.87                 0.57  "
            ]
          },
          "metadata": {
            "tags": []
          },
          "execution_count": 127
        }
      ]
    },
    {
      "metadata": {
        "id": "MpePbZcmtcSv",
        "colab_type": "text"
      },
      "cell_type": "markdown",
      "source": [
        "## Findings"
      ]
    },
    {
      "metadata": {
        "id": "u3PLTto7q14f",
        "colab_type": "text"
      },
      "cell_type": "markdown",
      "source": [
        "Looking at these results we can see that Logistic Regression, Random Forest, SVM, AdaBoost and XGBoost all have accuracies over 82%. We discard Logistic Regression due to the presence of multicollinearity in the data. The others are not as affected by this.  \n",
        "\n",
        "---\n",
        "This could imply that these are the models that should be used for predicting Customer Churn. But just accuracy isn't enough as we should also check the precision and recall. \n",
        "\n",
        "---\n",
        "\n",
        "Therefore, we must look at the F-Score of the model. Looking at the results above, we see that the F-Scores of these models are 60%. Therefore, we can try and make the model more sensitive to the negative class and avoid the number of False Negatives. \n",
        "\n",
        "---\n",
        "\n",
        "Now, we take the classifier with the maximum accuracy as well as the maximum F-Score from the group i.e. the XGBoost model and try and make the model more sensitive towards these performance metrics. "
      ]
    },
    {
      "metadata": {
        "id": "FzPw_GsNthCE",
        "colab_type": "text"
      },
      "cell_type": "markdown",
      "source": [
        "## Making the model Sensitive"
      ]
    },
    {
      "metadata": {
        "id": "fkfdhlIYfu5T",
        "colab_type": "code",
        "colab": {
          "base_uri": "https://localhost:8080/",
          "height": 263
        },
        "outputId": "8f42c08a-f396-4dcc-a2e6-d205f19dc494"
      },
      "cell_type": "code",
      "source": [
        "from xgboost import XGBClassifier\n",
        "\n",
        "model = XGBClassifier(learning_rate=0.1,  \n",
        "                      colsample_bytree = 0.4,\n",
        "                      subsample = 0.8,\n",
        "                      objective='binary:logistic', \n",
        "                      n_estimators=1000, \n",
        "                      reg_alpha = 0.3,\n",
        "                      max_depth=4, \n",
        "                      gamma=10)\n",
        "\n",
        "model = XGBClassifier(booster='dart', learning_rate=0.1, min_split_loss=0.5, tree_method='exact', scale_pos_weight=1.75)\n",
        "\n",
        "\n",
        "model.fit(X_train_mm, y_train)\n",
        "predictions = model.predict(X_test_mm)\n",
        "\n",
        "cr_xgb_sens = classification_report(y_test,predictions)\n",
        "acc_xgb_sens = accuracy_score(y_test,predictions)\n",
        "print(\"Accuracy Score : \",acc_xgb_sens)\n",
        "print(\"\\n\")\n",
        "print(\"\\n Classification report : \\n\",cr_xgb_sens)"
      ],
      "execution_count": 131,
      "outputs": [
        {
          "output_type": "stream",
          "text": [
            "Accuracy Score :  0.8088130774697939\n",
            "\n",
            "\n",
            "\n",
            " Classification report : \n",
            "               precision    recall  f1-score   support\n",
            "\n",
            "           0       0.89      0.84      0.87      1042\n",
            "           1       0.61      0.72      0.66       365\n",
            "\n",
            "   micro avg       0.81      0.81      0.81      1407\n",
            "   macro avg       0.75      0.78      0.76      1407\n",
            "weighted avg       0.82      0.81      0.81      1407\n",
            "\n"
          ],
          "name": "stdout"
        }
      ]
    },
    {
      "metadata": {
        "id": "JLQi0TtFuDiC",
        "colab_type": "text"
      },
      "cell_type": "markdown",
      "source": [
        "In the above model, we have made the model more sensitive to the Negative class by tuning the weights a little in order to penalize low recall for the class '1'. \n",
        "\n",
        "\n",
        "---\n",
        "\n",
        "\n",
        "This is done because our model should be more sensitive to the fact that it fails to predict when a customer churns as it is more dangerous. \n",
        "\n",
        "\n",
        "---\n",
        "\n",
        "\n",
        "We can see that the model now has a Recall of 0.72, which is much higher than the previous 0.63. But as we can see, the accuracy takes a hit to 80.88%. This makes the model worse in terms of accuracy but helps us reduce the number of cases where we fail to predict a cutomer churning. "
      ]
    },
    {
      "metadata": {
        "id": "8mkfUY1Mu9Iy",
        "colab_type": "text"
      },
      "cell_type": "markdown",
      "source": [
        "# Conclusion"
      ]
    },
    {
      "metadata": {
        "id": "Wh9M1ZDKu_ry",
        "colab_type": "text"
      },
      "cell_type": "markdown",
      "source": [
        "Therefore, from this project we can see that in general, Boosting algorithms perform farely better than their counterparts which makes sense as boosting combines the best of multiplt models and outputs a more robust model.\n",
        "\n",
        "Another interesting result in this project is that PCA dooesn't help us increase the accuracy of our model. This could be due to the fact that the dataset consisted of a lot of categorical variables.\n",
        "\n",
        "Finally, we tried to reduce the number of false negatives as that is something that is of utmost importance in any model aiming to be successful in this doman of predciting Customer churn. So, even though the accuracy takes a minor hit, we obtain a pretty robust XGBoost based model which performs up to the mark."
      ]
    }
  ]
}